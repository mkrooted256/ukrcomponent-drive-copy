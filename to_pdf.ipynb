{
 "cells": [
  {
   "cell_type": "code",
   "execution_count": 1,
   "id": "510c71ca",
   "metadata": {},
   "outputs": [],
   "source": [
    "import tools\n",
    "from tools import ScanParams, CopyParams\n",
    "\n",
    "import logging\n",
    "logging.basicConfig(\n",
    "    format='%(asctime)s %(levelname)-8s %(message)s',\n",
    "    level=logging.INFO,\n",
    "    datefmt='%Y-%m-%d %H:%M:%S')"
   ]
  },
  {
   "cell_type": "markdown",
   "id": "e73751c9",
   "metadata": {},
   "source": [
    "## Manual mode"
   ]
  },
  {
   "cell_type": "code",
   "execution_count": 2,
   "id": "f9e609c4",
   "metadata": {},
   "outputs": [
    {
     "name": "stderr",
     "output_type": "stream",
     "text": [
      "2025-10-23 00:48:41 INFO     Token ok but expired. Refreshing\n"
     ]
    },
    {
     "name": "stderr",
     "output_type": "stream",
     "text": [
      "2025-10-23 00:48:41 INFO     file_cache is only supported with oauth2client<4.0.0\n"
     ]
    },
    {
     "data": {
      "text/plain": [
       "\"'1SlONqF9zjE3P80yz-SvyQM3g7r_a1xAd' in parents and trashed = false\""
      ]
     },
     "execution_count": 2,
     "metadata": {},
     "output_type": "execute_result"
    }
   ],
   "source": [
    "from tools import auth_drive, drive_get, drive_list, drive_create, list_children\n",
    "logger = logging.getLogger('ipynb')\n",
    "\n",
    "token_file = None\n",
    "inventory_csv = \"UC_history_inventory.csv\"\n",
    "folders_csv = \"UC_history_folders.csv\"\n",
    "\n",
    "service = auth_drive('token.json')\n",
    "\n",
    "root_id = '1SlONqF9zjE3P80yz-SvyQM3g7r_a1xAd'  # UC History\n",
    "root_meta = drive_get(service, root_id, fields='id,name,mimeType,parents,size,modifiedTime')\n",
    "root_name = root_meta.get('name', 'Unknown')\n",
    "q = f\"'{root_id}' in parents and trashed = false\"\n",
    "q"
   ]
  },
  {
   "cell_type": "code",
   "execution_count": 3,
   "id": "038bdb3e",
   "metadata": {},
   "outputs": [],
   "source": [
    "import os\n",
    "import shutil\n",
    "def backup_inventory():\n",
    "    logger.info(f\"Backing up '{inventory_csv}' to '{inventory_csv}.bak\")\n",
    "    shutil.copy(inventory_csv, inventory_csv+'.bak')\n",
    "\n",
    "def restore_inventory():\n",
    "    logger.info(f\"Overwriting '{inventory_csv}' using '{inventory_csv}.bak\")\n",
    "    shutil.copy(inventory_csv+'.bak', inventory_csv)"
   ]
  },
  {
   "cell_type": "code",
   "execution_count": 8,
   "id": "9e85ed01",
   "metadata": {},
   "outputs": [
    {
     "name": "stderr",
     "output_type": "stream",
     "text": [
      "2025-10-23 00:45:00 INFO     Backing up 'UC_history_inventory.csv' to 'UC_history_inventory.csv.bak\n"
     ]
    }
   ],
   "source": [
    "backup_inventory()"
   ]
  },
  {
   "cell_type": "code",
   "execution_count": 7,
   "id": "f06ed21f",
   "metadata": {},
   "outputs": [
    {
     "name": "stderr",
     "output_type": "stream",
     "text": [
      "2025-10-23 00:44:32 INFO     Overwriting 'UC_history_inventory.csv' using 'UC_history_inventory.csv.bak\n"
     ]
    }
   ],
   "source": [
    "restore_inventory()"
   ]
  },
  {
   "cell_type": "markdown",
   "id": "3949d7a3",
   "metadata": {},
   "source": [
    "## Auto mode"
   ]
  },
  {
   "cell_type": "markdown",
   "id": "1942ee69",
   "metadata": {},
   "source": [
    "1. Scan a folder"
   ]
  },
  {
   "cell_type": "code",
   "execution_count": 2,
   "id": "0497f900",
   "metadata": {},
   "outputs": [
    {
     "name": "stderr",
     "output_type": "stream",
     "text": [
      "2025-10-22 22:07:40 INFO     file_cache is only supported with oauth2client<4.0.0\n",
      "2025-10-22 22:07:40 INFO     Scanning 1 root folder(s)...\n",
      "2025-10-22 22:07:40 INFO     Scanning root: history (1SlONqF9zjE3P80yz-SvyQM3g7r_a1xAd)\n",
      "2025-10-22 22:07:40 INFO     ! Root Історія України (1SlONqF9zjE3P80yz-SvyQM3g7r_a1xAd) is on a shared drive (https://drive.google.com/drive/folders/0ANqgtgU9ZamEUk9PVA)\n",
      "2025-10-22 22:07:52 INFO     Scan complete. Inventory saved to UC_history_inventory.csv\n"
     ]
    }
   ],
   "source": [
    "tools.cmd_scan(ScanParams(\"UC_history_folders.csv\",\"UC_history_inventory.csv\",None,batch_flush=100,token_file=None))"
   ]
  },
  {
   "cell_type": "markdown",
   "id": "fb8ae0f8",
   "metadata": {},
   "source": [
    "2. run an exporter"
   ]
  },
  {
   "cell_type": "markdown",
   "id": "756a808b",
   "metadata": {},
   "source": [
    "---"
   ]
  },
  {
   "cell_type": "code",
   "execution_count": 4,
   "id": "5e510ea3",
   "metadata": {},
   "outputs": [
    {
     "data": {
      "text/html": [
       "<div>\n",
       "<style scoped>\n",
       "    .dataframe tbody tr th:only-of-type {\n",
       "        vertical-align: middle;\n",
       "    }\n",
       "\n",
       "    .dataframe tbody tr th {\n",
       "        vertical-align: top;\n",
       "    }\n",
       "\n",
       "    .dataframe thead th {\n",
       "        text-align: right;\n",
       "    }\n",
       "</style>\n",
       "<table border=\"1\" class=\"dataframe\">\n",
       "  <thead>\n",
       "    <tr style=\"text-align: right;\">\n",
       "      <th></th>\n",
       "      <th>root_id</th>\n",
       "      <th>root_name</th>\n",
       "      <th>id</th>\n",
       "      <th>name</th>\n",
       "      <th>mimeType</th>\n",
       "      <th>parent_id</th>\n",
       "      <th>path</th>\n",
       "      <th>size</th>\n",
       "      <th>modifiedTime</th>\n",
       "      <th>status</th>\n",
       "      <th>dest_id</th>\n",
       "      <th>error</th>\n",
       "      <th>last_attempt</th>\n",
       "      <th>retries</th>\n",
       "      <th>root_dest_id</th>\n",
       "      <th>drive_id</th>\n",
       "      <th>local_path</th>\n",
       "    </tr>\n",
       "  </thead>\n",
       "  <tbody>\n",
       "    <tr>\n",
       "      <th>0</th>\n",
       "      <td>1SlONqF9zjE3P80yz-SvyQM3g7r_a1xAd</td>\n",
       "      <td>Історія України</td>\n",
       "      <td>1SlONqF9zjE3P80yz-SvyQM3g7r_a1xAd</td>\n",
       "      <td>Історія України</td>\n",
       "      <td>application/vnd.google-apps.folder</td>\n",
       "      <td></td>\n",
       "      <td>Історія України</td>\n",
       "      <td></td>\n",
       "      <td>2025-09-30T10:07:22.842Z</td>\n",
       "      <td>pending</td>\n",
       "      <td>1Yd4EDx8t95HbEB0dqOwvwgpNWEaFO-eL</td>\n",
       "      <td></td>\n",
       "      <td></td>\n",
       "      <td>0</td>\n",
       "      <td></td>\n",
       "      <td>0ANqgtgU9ZamEUk9PVA</td>\n",
       "      <td>None</td>\n",
       "    </tr>\n",
       "    <tr>\n",
       "      <th>1</th>\n",
       "      <td>1SlONqF9zjE3P80yz-SvyQM3g7r_a1xAd</td>\n",
       "      <td>Історія України</td>\n",
       "      <td>1Slm-VZGXvfjooxbm0yoOw6KAlrl7aXb3</td>\n",
       "      <td>11 клас</td>\n",
       "      <td>application/vnd.google-apps.folder</td>\n",
       "      <td>1SlONqF9zjE3P80yz-SvyQM3g7r_a1xAd</td>\n",
       "      <td>Історія України/11 клас</td>\n",
       "      <td></td>\n",
       "      <td>2025-09-30T10:09:02.444Z</td>\n",
       "      <td>pending</td>\n",
       "      <td></td>\n",
       "      <td></td>\n",
       "      <td></td>\n",
       "      <td>0</td>\n",
       "      <td></td>\n",
       "      <td>0ANqgtgU9ZamEUk9PVA</td>\n",
       "      <td>None</td>\n",
       "    </tr>\n",
       "    <tr>\n",
       "      <th>2</th>\n",
       "      <td>1SlONqF9zjE3P80yz-SvyQM3g7r_a1xAd</td>\n",
       "      <td>Історія України</td>\n",
       "      <td>1FEY3U9TDMe7OJYmhF4n7WNSnquHALTtA</td>\n",
       "      <td>10 клас</td>\n",
       "      <td>application/vnd.google-apps.folder</td>\n",
       "      <td>1SlONqF9zjE3P80yz-SvyQM3g7r_a1xAd</td>\n",
       "      <td>Історія України/10 клас</td>\n",
       "      <td></td>\n",
       "      <td>2025-09-30T10:08:58.091Z</td>\n",
       "      <td>pending</td>\n",
       "      <td></td>\n",
       "      <td></td>\n",
       "      <td></td>\n",
       "      <td>0</td>\n",
       "      <td></td>\n",
       "      <td>0ANqgtgU9ZamEUk9PVA</td>\n",
       "      <td>None</td>\n",
       "    </tr>\n",
       "    <tr>\n",
       "      <th>3</th>\n",
       "      <td>1SlONqF9zjE3P80yz-SvyQM3g7r_a1xAd</td>\n",
       "      <td>Історія України</td>\n",
       "      <td>1msZmh6id6XzKA4HWj-1PtrOKoV7SX97J</td>\n",
       "      <td>9 клас</td>\n",
       "      <td>application/vnd.google-apps.folder</td>\n",
       "      <td>1SlONqF9zjE3P80yz-SvyQM3g7r_a1xAd</td>\n",
       "      <td>Історія України/9 клас</td>\n",
       "      <td></td>\n",
       "      <td>2025-09-30T10:08:54.127Z</td>\n",
       "      <td>pending</td>\n",
       "      <td></td>\n",
       "      <td></td>\n",
       "      <td></td>\n",
       "      <td>0</td>\n",
       "      <td></td>\n",
       "      <td>0ANqgtgU9ZamEUk9PVA</td>\n",
       "      <td>None</td>\n",
       "    </tr>\n",
       "    <tr>\n",
       "      <th>4</th>\n",
       "      <td>1SlONqF9zjE3P80yz-SvyQM3g7r_a1xAd</td>\n",
       "      <td>Історія України</td>\n",
       "      <td>18eCjm_JN3RlggIW_965BlIHALuCTB8eR</td>\n",
       "      <td>8 клас</td>\n",
       "      <td>application/vnd.google-apps.folder</td>\n",
       "      <td>1SlONqF9zjE3P80yz-SvyQM3g7r_a1xAd</td>\n",
       "      <td>Історія України/8 клас</td>\n",
       "      <td></td>\n",
       "      <td>2025-09-30T10:08:50.003Z</td>\n",
       "      <td>pending</td>\n",
       "      <td></td>\n",
       "      <td></td>\n",
       "      <td></td>\n",
       "      <td>0</td>\n",
       "      <td></td>\n",
       "      <td>0ANqgtgU9ZamEUk9PVA</td>\n",
       "      <td>None</td>\n",
       "    </tr>\n",
       "  </tbody>\n",
       "</table>\n",
       "</div>"
      ],
      "text/plain": [
       "                             root_id        root_name  \\\n",
       "0  1SlONqF9zjE3P80yz-SvyQM3g7r_a1xAd  Історія України   \n",
       "1  1SlONqF9zjE3P80yz-SvyQM3g7r_a1xAd  Історія України   \n",
       "2  1SlONqF9zjE3P80yz-SvyQM3g7r_a1xAd  Історія України   \n",
       "3  1SlONqF9zjE3P80yz-SvyQM3g7r_a1xAd  Історія України   \n",
       "4  1SlONqF9zjE3P80yz-SvyQM3g7r_a1xAd  Історія України   \n",
       "\n",
       "                                  id             name  \\\n",
       "0  1SlONqF9zjE3P80yz-SvyQM3g7r_a1xAd  Історія України   \n",
       "1  1Slm-VZGXvfjooxbm0yoOw6KAlrl7aXb3          11 клас   \n",
       "2  1FEY3U9TDMe7OJYmhF4n7WNSnquHALTtA          10 клас   \n",
       "3  1msZmh6id6XzKA4HWj-1PtrOKoV7SX97J           9 клас   \n",
       "4  18eCjm_JN3RlggIW_965BlIHALuCTB8eR           8 клас   \n",
       "\n",
       "                             mimeType                          parent_id  \\\n",
       "0  application/vnd.google-apps.folder                                      \n",
       "1  application/vnd.google-apps.folder  1SlONqF9zjE3P80yz-SvyQM3g7r_a1xAd   \n",
       "2  application/vnd.google-apps.folder  1SlONqF9zjE3P80yz-SvyQM3g7r_a1xAd   \n",
       "3  application/vnd.google-apps.folder  1SlONqF9zjE3P80yz-SvyQM3g7r_a1xAd   \n",
       "4  application/vnd.google-apps.folder  1SlONqF9zjE3P80yz-SvyQM3g7r_a1xAd   \n",
       "\n",
       "                      path size              modifiedTime   status  \\\n",
       "0          Історія України       2025-09-30T10:07:22.842Z  pending   \n",
       "1  Історія України/11 клас       2025-09-30T10:09:02.444Z  pending   \n",
       "2  Історія України/10 клас       2025-09-30T10:08:58.091Z  pending   \n",
       "3   Історія України/9 клас       2025-09-30T10:08:54.127Z  pending   \n",
       "4   Історія України/8 клас       2025-09-30T10:08:50.003Z  pending   \n",
       "\n",
       "                             dest_id error last_attempt  retries root_dest_id  \\\n",
       "0  1Yd4EDx8t95HbEB0dqOwvwgpNWEaFO-eL                           0                \n",
       "1                                                              0                \n",
       "2                                                              0                \n",
       "3                                                              0                \n",
       "4                                                              0                \n",
       "\n",
       "              drive_id local_path  \n",
       "0  0ANqgtgU9ZamEUk9PVA       None  \n",
       "1  0ANqgtgU9ZamEUk9PVA       None  \n",
       "2  0ANqgtgU9ZamEUk9PVA       None  \n",
       "3  0ANqgtgU9ZamEUk9PVA       None  \n",
       "4  0ANqgtgU9ZamEUk9PVA       None  "
      ]
     },
     "execution_count": 4,
     "metadata": {},
     "output_type": "execute_result"
    }
   ],
   "source": [
    "df = tools.load_inventory(inventory_csv)\n",
    "df.head()"
   ]
  },
  {
   "cell_type": "code",
   "execution_count": 5,
   "id": "f87ad90f",
   "metadata": {},
   "outputs": [
    {
     "name": "stderr",
     "output_type": "stream",
     "text": [
      "2025-10-23 00:48:52 INFO     Found 22 folders\n",
      "2025-10-23 00:48:52 INFO     Found 22 folders, 28 downloadable files, 0 ignored files\n",
      "2025-10-23 00:48:52 INFO     Preparing to download 28 files\n",
      "2025-10-23 00:48:52 INFO     Downloading: Історія України/5 клас/Урок 2/5 клас_2 урок_конспект.docx\n",
      "2025-10-23 00:48:54 INFO     Progress: 1/28 files downloaded\n",
      "2025-10-23 00:48:54 INFO     Downloading: Історія України/5 клас/Урок 2/5 клас_2 урок_презентація.pptx\n",
      "2025-10-23 00:48:59 INFO     Progress: 2/28 files downloaded\n",
      "2025-10-23 00:48:59 INFO     Downloading: Історія України/5 клас/Урок 1/5 клас_1 урок_презентація.pptx\n",
      "2025-10-23 00:49:03 INFO     Progress: 3/28 files downloaded\n",
      "2025-10-23 00:49:03 INFO     Downloading: Історія України/5 клас/Урок 1/5 клас_1 урок_конспект.docx\n",
      "2025-10-23 00:49:08 INFO     Progress: 4/28 files downloaded\n",
      "2025-10-23 00:49:08 INFO     Downloading: Історія України/6 клас/Урок 2/6 клас_2 урок_презентація.pptx\n",
      "2025-10-23 00:49:12 INFO     Progress: 5/28 files downloaded\n",
      "2025-10-23 00:49:12 INFO     Downloading: Історія України/6 клас/Урок 2/6 клас_2 урок_конспект.docx\n",
      "2025-10-23 00:49:14 INFO     Progress: 6/28 files downloaded\n",
      "2025-10-23 00:49:14 INFO     Downloading: Історія України/6 клас/Урок 1/6 клас_1 урок_презентація.pptx\n",
      "2025-10-23 00:49:17 INFO     Progress: 7/28 files downloaded\n",
      "2025-10-23 00:49:17 INFO     Downloading: Історія України/6 клас/Урок 1/6 клас_1 урок_конспект.docx\n",
      "2025-10-23 00:49:22 INFO     Progress: 8/28 files downloaded\n",
      "2025-10-23 00:49:22 INFO     Downloading: Історія України/7 клас/Урок 2/Клас 7_Урок 2_презентація.pptx\n",
      "2025-10-23 00:49:26 INFO     Progress: 9/28 files downloaded\n",
      "2025-10-23 00:49:26 INFO     Downloading: Історія України/7 клас/Урок 2/Клас 7_Урок 2_конспект.docx\n",
      "2025-10-23 00:49:28 INFO     Progress: 10/28 files downloaded\n",
      "2025-10-23 00:49:28 INFO     Downloading: Історія України/7 клас/Урок 1/7 клас_1 урок_презентація.pptx\n",
      "2025-10-23 00:49:32 INFO     Progress: 11/28 files downloaded\n",
      "2025-10-23 00:49:32 INFO     Downloading: Історія України/7 клас/Урок 1/7 клас_1 урок_конспект.docx\n",
      "2025-10-23 00:49:34 INFO     Progress: 12/28 files downloaded\n",
      "2025-10-23 00:49:34 INFO     Downloading: Історія України/8 клас/Урок 1/8 клас_1 урок_конспект.docx\n",
      "2025-10-23 00:49:37 INFO     Progress: 13/28 files downloaded\n",
      "2025-10-23 00:49:37 INFO     Downloading: Історія України/8 клас/Урок 1/8 клас_1 урок_презентація.pptx\n",
      "2025-10-23 00:49:40 INFO     Progress: 14/28 files downloaded\n",
      "2025-10-23 00:49:40 INFO     Downloading: Історія України/8 клас/Урок 2/Клас 8_Урок 2_конспект.docx\n",
      "2025-10-23 00:49:42 INFO     Progress: 15/28 files downloaded\n",
      "2025-10-23 00:49:42 INFO     Downloading: Історія України/8 клас/Урок 2/Клас 8_Урок 2_презентація.pptx\n",
      "2025-10-23 00:49:46 INFO     Progress: 16/28 files downloaded\n",
      "2025-10-23 00:49:46 INFO     Downloading: Історія України/9 клас/Урок 1/9 клас_1 урок_презенація.pptx\n",
      "2025-10-23 00:49:50 INFO     Progress: 17/28 files downloaded\n",
      "2025-10-23 00:49:50 INFO     Downloading: Історія України/9 клас/Урок 1/9 клас_1 урок_конспект.docx\n",
      "2025-10-23 00:49:51 INFO     Progress: 18/28 files downloaded\n",
      "2025-10-23 00:49:51 INFO     Downloading: Історія України/9 клас/Урок 2/Клас 9_Урок 2_презентація.pptx\n",
      "2025-10-23 00:49:56 INFO     Progress: 19/28 files downloaded\n",
      "2025-10-23 00:49:56 INFO     Downloading: Історія України/9 клас/Урок 2/Клас 9_Урок 2_конспект.docx\n",
      "2025-10-23 00:49:58 INFO     Progress: 20/28 files downloaded\n",
      "2025-10-23 00:49:58 INFO     Downloading: Історія України/10 клас/Урок 2/Клас 10_Урок 2_презентація.pptx\n",
      "2025-10-23 00:50:03 INFO     Progress: 21/28 files downloaded\n",
      "2025-10-23 00:50:03 INFO     Downloading: Історія України/10 клас/Урок 2/Клас 10_Урок 2_конспект.docx\n",
      "2025-10-23 00:50:04 INFO     Progress: 22/28 files downloaded\n",
      "2025-10-23 00:50:04 INFO     Downloading: Історія України/10 клас/Урок 1/10 клас_1 урок_презентація.pptx\n",
      "2025-10-23 00:50:08 INFO     Progress: 23/28 files downloaded\n",
      "2025-10-23 00:50:08 INFO     Downloading: Історія України/10 клас/Урок 1/10 клас_1 урок_конспект.docx\n",
      "2025-10-23 00:50:09 INFO     Progress: 24/28 files downloaded\n",
      "2025-10-23 00:50:09 INFO     Downloading: Історія України/11 клас/Урок 2/Клас 11_Урок 2_презентація.pptx\n",
      "2025-10-23 00:50:13 INFO     Progress: 25/28 files downloaded\n",
      "2025-10-23 00:50:13 INFO     Downloading: Історія України/11 клас/Урок 2/Клас 11_Урок 2_конспект.docx\n",
      "2025-10-23 00:50:16 INFO     Progress: 26/28 files downloaded\n",
      "2025-10-23 00:50:16 INFO     Downloading: Історія України/11 клас/Урок 1/11 клас_1 урок_презентація.pptx\n",
      "2025-10-23 00:50:19 INFO     Progress: 27/28 files downloaded\n",
      "2025-10-23 00:50:19 INFO     Downloading: Історія України/11 клас/Урок 1/11 клас_1 урок_конспект.docx\n",
      "2025-10-23 00:50:21 INFO     Progress: 28/28 files downloaded\n",
      "2025-10-23 00:50:21 INFO     Download complete. 28/28 files downloaded\n"
     ]
    }
   ],
   "source": [
    "tools.download_inventory(service, df, inventory_csv, 'HISTORY', batch_size=1, token_file='token.json')"
   ]
  },
  {
   "cell_type": "code",
   "execution_count": 6,
   "id": "b207e02b",
   "metadata": {},
   "outputs": [
    {
     "data": {
      "text/plain": [
       "['1SlONqF9zjE3P80yz-SvyQM3g7r_a1xAd']"
      ]
     },
     "execution_count": 6,
     "metadata": {},
     "output_type": "execute_result"
    }
   ],
   "source": [
    "selected_root_ids = list(df[df['parent_id'] == '']['root_id'])\n",
    "selected_root_ids"
   ]
  },
  {
   "cell_type": "code",
   "execution_count": 9,
   "id": "92fe2817",
   "metadata": {},
   "outputs": [
    {
     "name": "stderr",
     "output_type": "stream",
     "text": [
      "2025-10-23 00:50:55 INFO     Found 22 folders, 28 exportable files, 0 ignored files\n",
      "2025-10-23 00:50:55 INFO     Verifying root destination Історія України -> 1Yd4EDx8t95HbEB0dqOwvwgpNWEaFO-eL\n",
      "2025-10-23 00:50:55 INFO     Prepared root: Історія України -> 1Yd4EDx8t95HbEB0dqOwvwgpNWEaFO-eL\n",
      "2025-10-23 00:50:55 INFO     Starting downloading, converting, and uploading of 50 items under 1 root(s).\n",
      "2025-10-23 00:50:56 INFO     ... 'Історія України/10 клас' done [2/50]\n",
      "2025-10-23 00:50:57 INFO     ... 'Історія України/11 клас' done [3/50]\n",
      "2025-10-23 00:50:58 INFO     ... 'Історія України/5 клас' done [4/50]\n",
      "2025-10-23 00:50:59 INFO     ... 'Історія України/6 клас' done [5/50]\n",
      "2025-10-23 00:51:00 INFO     ... 'Історія України/7 клас' done [6/50]\n",
      "2025-10-23 00:51:01 INFO     ... 'Історія України/8 клас' done [7/50]\n",
      "2025-10-23 00:51:02 INFO     ... 'Історія України/9 клас' done [8/50]\n",
      "2025-10-23 00:51:03 INFO     ... 'Історія України/10 клас/Урок 1' done [9/50]\n",
      "2025-10-23 00:51:05 INFO     ... 'Історія України/10 клас/Урок 2' done [10/50]\n",
      "2025-10-23 00:51:06 INFO     ... 'Історія України/11 клас/Урок 1' done [11/50]\n",
      "2025-10-23 00:51:07 INFO     ... 'Історія України/11 клас/Урок 2' done [12/50]\n",
      "2025-10-23 00:51:08 INFO     ... 'Історія України/5 клас/Урок 1' done [13/50]\n",
      "2025-10-23 00:51:09 INFO     ... 'Історія України/5 клас/Урок 2' done [14/50]\n",
      "2025-10-23 00:51:09 INFO     ... 'Історія України/6 клас/Урок 1' done [15/50]\n",
      "2025-10-23 00:51:10 INFO     ... 'Історія України/6 клас/Урок 2' done [16/50]\n",
      "2025-10-23 00:51:11 INFO     ... 'Історія України/7 клас/Урок 1' done [17/50]\n",
      "2025-10-23 00:51:12 INFO     ... 'Історія України/7 клас/Урок 2' done [18/50]\n",
      "2025-10-23 00:51:13 INFO     ... 'Історія України/8 клас/Урок 1' done [19/50]\n",
      "2025-10-23 00:51:14 INFO     ... 'Історія України/8 клас/Урок 2' done [20/50]\n",
      "2025-10-23 00:51:15 INFO     ... 'Історія України/9 клас/Урок 1' done [21/50]\n",
      "2025-10-23 00:51:16 INFO     ... 'Історія України/9 клас/Урок 2' done [22/50]\n",
      "2025-10-23 00:51:16 INFO     [1/28] Processing 'Історія України/10 клас/Урок 1/10 клас_1 урок_конспект.docx' (1rC-aY2OZtqcdjBgcItQEiwDEJZw1J45B)\n",
      "2025-10-23 00:51:16 INFO     > File '1rC-aY2OZtqcdjBgcItQEiwDEJZw1J45B' is already downloaded. Skipping download.\n",
      "2025-10-23 00:51:16 INFO     > Converting 1rC-aY2OZtqcdjBgcItQEiwDEJZw1J45B\n"
     ]
    },
    {
     "data": {
      "application/vnd.jupyter.widget-view+json": {
       "model_id": "5eeadc1ddbb249a394675f3784bb1896",
       "version_major": 2,
       "version_minor": 0
      },
      "text/plain": [
       "  0%|          | 0/1 [00:00<?, ?it/s]"
      ]
     },
     "metadata": {},
     "output_type": "display_data"
    },
    {
     "name": "stderr",
     "output_type": "stream",
     "text": [
      "2025-10-23 00:51:22 INFO     > Uploading 1rC-aY2OZtqcdjBgcItQEiwDEJZw1J45B\n",
      "2025-10-23 00:51:25 INFO     ... 'Історія України/10 клас/Урок 1/10 клас_1 урок_конспект.docx' done [23/50]\n",
      "2025-10-23 00:51:25 INFO     [2/28] Processing 'Історія України/10 клас/Урок 1/10 клас_1 урок_презентація.pptx' (11435RepvtQutdblMMINLBBXbkvm6VGSp)\n",
      "2025-10-23 00:51:25 INFO     > File '11435RepvtQutdblMMINLBBXbkvm6VGSp' is already downloaded. Skipping download.\n",
      "2025-10-23 00:51:25 INFO     > Converting 11435RepvtQutdblMMINLBBXbkvm6VGSp\n",
      "2025-10-23 00:51:32 INFO     > Uploading 11435RepvtQutdblMMINLBBXbkvm6VGSp\n"
     ]
    },
    {
     "name": "stdout",
     "output_type": "stream",
     "text": [
      "Conversion completed: 1 files converted successfully, 0 files failed.\n"
     ]
    },
    {
     "name": "stderr",
     "output_type": "stream",
     "text": [
      "2025-10-23 00:51:35 INFO     ... 'Історія України/10 клас/Урок 1/10 клас_1 урок_презентація.pptx' done [24/50]\n",
      "2025-10-23 00:51:35 INFO     [3/28] Processing 'Історія України/10 клас/Урок 2/Клас 10_Урок 2_конспект.docx' (1pgOT7SozVh_JDXXcf2R3r7Lip-1uPWaI)\n",
      "2025-10-23 00:51:35 INFO     > File '1pgOT7SozVh_JDXXcf2R3r7Lip-1uPWaI' is already downloaded. Skipping download.\n",
      "2025-10-23 00:51:35 INFO     > Converting 1pgOT7SozVh_JDXXcf2R3r7Lip-1uPWaI\n"
     ]
    },
    {
     "data": {
      "application/vnd.jupyter.widget-view+json": {
       "model_id": "49f81483978b4949ad5513737c033f69",
       "version_major": 2,
       "version_minor": 0
      },
      "text/plain": [
       "  0%|          | 0/1 [00:00<?, ?it/s]"
      ]
     },
     "metadata": {},
     "output_type": "display_data"
    },
    {
     "name": "stderr",
     "output_type": "stream",
     "text": [
      "2025-10-23 00:51:40 INFO     > Uploading 1pgOT7SozVh_JDXXcf2R3r7Lip-1uPWaI\n",
      "2025-10-23 00:51:42 INFO     ... 'Історія України/10 клас/Урок 2/Клас 10_Урок 2_конспект.docx' done [25/50]\n",
      "2025-10-23 00:51:42 INFO     [4/28] Processing 'Історія України/10 клас/Урок 2/Клас 10_Урок 2_презентація.pptx' (1uJx3CjCo6srMC_NOEtYEPezMZD0pa8Ng)\n",
      "2025-10-23 00:51:42 INFO     > File '1uJx3CjCo6srMC_NOEtYEPezMZD0pa8Ng' is already downloaded. Skipping download.\n",
      "2025-10-23 00:51:42 INFO     > Converting 1uJx3CjCo6srMC_NOEtYEPezMZD0pa8Ng\n",
      "2025-10-23 00:51:48 INFO     > Uploading 1uJx3CjCo6srMC_NOEtYEPezMZD0pa8Ng\n"
     ]
    },
    {
     "name": "stdout",
     "output_type": "stream",
     "text": [
      "Conversion completed: 1 files converted successfully, 0 files failed.\n"
     ]
    },
    {
     "name": "stderr",
     "output_type": "stream",
     "text": [
      "2025-10-23 00:51:51 INFO     ... 'Історія України/10 клас/Урок 2/Клас 10_Урок 2_презентація.pptx' done [26/50]\n",
      "2025-10-23 00:51:51 INFO     [5/28] Processing 'Історія України/11 клас/Урок 1/11 клас_1 урок_конспект.docx' (18T6uaiJIVQoVfwHs8nGmYYhreRoxa-CA)\n",
      "2025-10-23 00:51:51 INFO     > File '18T6uaiJIVQoVfwHs8nGmYYhreRoxa-CA' is already downloaded. Skipping download.\n",
      "2025-10-23 00:51:51 INFO     > Converting 18T6uaiJIVQoVfwHs8nGmYYhreRoxa-CA\n"
     ]
    },
    {
     "data": {
      "application/vnd.jupyter.widget-view+json": {
       "model_id": "15c08a0f99714028821d4ca0910e67ff",
       "version_major": 2,
       "version_minor": 0
      },
      "text/plain": [
       "  0%|          | 0/1 [00:00<?, ?it/s]"
      ]
     },
     "metadata": {},
     "output_type": "display_data"
    },
    {
     "name": "stderr",
     "output_type": "stream",
     "text": [
      "2025-10-23 00:51:55 INFO     > Uploading 18T6uaiJIVQoVfwHs8nGmYYhreRoxa-CA\n",
      "2025-10-23 00:51:58 INFO     ... 'Історія України/11 клас/Урок 1/11 клас_1 урок_конспект.docx' done [27/50]\n",
      "2025-10-23 00:51:58 INFO     [6/28] Processing 'Історія України/11 клас/Урок 1/11 клас_1 урок_презентація.pptx' (1BO6AUJeYYODxyM7PSV30CNkwIJCKG42u)\n",
      "2025-10-23 00:51:58 INFO     > File '1BO6AUJeYYODxyM7PSV30CNkwIJCKG42u' is already downloaded. Skipping download.\n",
      "2025-10-23 00:51:58 INFO     > Converting 1BO6AUJeYYODxyM7PSV30CNkwIJCKG42u\n",
      "2025-10-23 00:52:05 INFO     > Uploading 1BO6AUJeYYODxyM7PSV30CNkwIJCKG42u\n"
     ]
    },
    {
     "name": "stdout",
     "output_type": "stream",
     "text": [
      "Conversion completed: 1 files converted successfully, 0 files failed.\n"
     ]
    },
    {
     "name": "stderr",
     "output_type": "stream",
     "text": [
      "2025-10-23 00:52:08 INFO     ... 'Історія України/11 клас/Урок 1/11 клас_1 урок_презентація.pptx' done [28/50]\n",
      "2025-10-23 00:52:08 INFO     [7/28] Processing 'Історія України/11 клас/Урок 2/Клас 11_Урок 2_конспект.docx' (1ayxQ1X5WY4G7KfLd-xklVVRt7yyqYczI)\n",
      "2025-10-23 00:52:08 INFO     > File '1ayxQ1X5WY4G7KfLd-xklVVRt7yyqYczI' is already downloaded. Skipping download.\n",
      "2025-10-23 00:52:08 INFO     > Converting 1ayxQ1X5WY4G7KfLd-xklVVRt7yyqYczI\n"
     ]
    },
    {
     "data": {
      "application/vnd.jupyter.widget-view+json": {
       "model_id": "e3804ed90cfd45cb949ab4c1e5c2bd39",
       "version_major": 2,
       "version_minor": 0
      },
      "text/plain": [
       "  0%|          | 0/1 [00:00<?, ?it/s]"
      ]
     },
     "metadata": {},
     "output_type": "display_data"
    },
    {
     "name": "stderr",
     "output_type": "stream",
     "text": [
      "2025-10-23 00:52:12 INFO     > Uploading 1ayxQ1X5WY4G7KfLd-xklVVRt7yyqYczI\n",
      "2025-10-23 00:52:15 INFO     ... 'Історія України/11 клас/Урок 2/Клас 11_Урок 2_конспект.docx' done [29/50]\n",
      "2025-10-23 00:52:15 INFO     [8/28] Processing 'Історія України/11 клас/Урок 2/Клас 11_Урок 2_презентація.pptx' (17TfD3DoUM7NUwSmJ5AfFMJzxnws6oCVj)\n",
      "2025-10-23 00:52:15 INFO     > File '17TfD3DoUM7NUwSmJ5AfFMJzxnws6oCVj' is already downloaded. Skipping download.\n",
      "2025-10-23 00:52:15 INFO     > Converting 17TfD3DoUM7NUwSmJ5AfFMJzxnws6oCVj\n",
      "2025-10-23 00:52:23 INFO     > Uploading 17TfD3DoUM7NUwSmJ5AfFMJzxnws6oCVj\n"
     ]
    },
    {
     "name": "stdout",
     "output_type": "stream",
     "text": [
      "Conversion completed: 1 files converted successfully, 0 files failed.\n"
     ]
    },
    {
     "name": "stderr",
     "output_type": "stream",
     "text": [
      "2025-10-23 00:52:26 INFO     ... 'Історія України/11 клас/Урок 2/Клас 11_Урок 2_презентація.pptx' done [30/50]\n",
      "2025-10-23 00:52:26 INFO     [9/28] Processing 'Історія України/5 клас/Урок 1/5 клас_1 урок_конспект.docx' (1IUUbuyC92puvBujXPJ15DJXLrLdVCXli)\n",
      "2025-10-23 00:52:26 INFO     > File '1IUUbuyC92puvBujXPJ15DJXLrLdVCXli' is already downloaded. Skipping download.\n",
      "2025-10-23 00:52:26 INFO     > Converting 1IUUbuyC92puvBujXPJ15DJXLrLdVCXli\n"
     ]
    },
    {
     "data": {
      "application/vnd.jupyter.widget-view+json": {
       "model_id": "63177bb5756e45acabff78454b5fc5d5",
       "version_major": 2,
       "version_minor": 0
      },
      "text/plain": [
       "  0%|          | 0/1 [00:00<?, ?it/s]"
      ]
     },
     "metadata": {},
     "output_type": "display_data"
    },
    {
     "name": "stderr",
     "output_type": "stream",
     "text": [
      "2025-10-23 00:52:32 INFO     > Uploading 1IUUbuyC92puvBujXPJ15DJXLrLdVCXli\n",
      "2025-10-23 00:52:34 INFO     ... 'Історія України/5 клас/Урок 1/5 клас_1 урок_конспект.docx' done [31/50]\n",
      "2025-10-23 00:52:34 INFO     [10/28] Processing 'Історія України/5 клас/Урок 1/5 клас_1 урок_презентація.pptx' (1k_jejfVm4l-z-LYg_1SOGVoswEAEXF3K)\n",
      "2025-10-23 00:52:34 INFO     > File '1k_jejfVm4l-z-LYg_1SOGVoswEAEXF3K' is already downloaded. Skipping download.\n",
      "2025-10-23 00:52:34 INFO     > Converting 1k_jejfVm4l-z-LYg_1SOGVoswEAEXF3K\n",
      "2025-10-23 00:52:43 INFO     > Uploading 1k_jejfVm4l-z-LYg_1SOGVoswEAEXF3K\n"
     ]
    },
    {
     "name": "stdout",
     "output_type": "stream",
     "text": [
      "Conversion completed: 1 files converted successfully, 0 files failed.\n"
     ]
    },
    {
     "name": "stderr",
     "output_type": "stream",
     "text": [
      "2025-10-23 00:52:46 INFO     ... 'Історія України/5 клас/Урок 1/5 клас_1 урок_презентація.pptx' done [32/50]\n",
      "2025-10-23 00:52:46 INFO     [11/28] Processing 'Історія України/5 клас/Урок 2/5 клас_2 урок_конспект.docx' (1iPHQxBFeb4RuS4lUI8HIWH8fqebF8ET7)\n",
      "2025-10-23 00:52:46 INFO     > File '1iPHQxBFeb4RuS4lUI8HIWH8fqebF8ET7' is already downloaded. Skipping download.\n",
      "2025-10-23 00:52:46 INFO     > Converting 1iPHQxBFeb4RuS4lUI8HIWH8fqebF8ET7\n"
     ]
    },
    {
     "data": {
      "application/vnd.jupyter.widget-view+json": {
       "model_id": "daf75e2280964ab0bc2b73927a7a072b",
       "version_major": 2,
       "version_minor": 0
      },
      "text/plain": [
       "  0%|          | 0/1 [00:00<?, ?it/s]"
      ]
     },
     "metadata": {},
     "output_type": "display_data"
    },
    {
     "name": "stderr",
     "output_type": "stream",
     "text": [
      "2025-10-23 00:52:51 INFO     > Uploading 1iPHQxBFeb4RuS4lUI8HIWH8fqebF8ET7\n",
      "2025-10-23 00:52:53 INFO     ... 'Історія України/5 клас/Урок 2/5 клас_2 урок_конспект.docx' done [33/50]\n",
      "2025-10-23 00:52:53 INFO     [12/28] Processing 'Історія України/5 клас/Урок 2/5 клас_2 урок_презентація.pptx' (1U-hj6l6ac3fwzOzaruRZOLGMBPyWMlt1)\n",
      "2025-10-23 00:52:53 INFO     > File '1U-hj6l6ac3fwzOzaruRZOLGMBPyWMlt1' is already downloaded. Skipping download.\n",
      "2025-10-23 00:52:53 INFO     > Converting 1U-hj6l6ac3fwzOzaruRZOLGMBPyWMlt1\n",
      "2025-10-23 00:53:03 INFO     > Uploading 1U-hj6l6ac3fwzOzaruRZOLGMBPyWMlt1\n"
     ]
    },
    {
     "name": "stdout",
     "output_type": "stream",
     "text": [
      "Conversion completed: 1 files converted successfully, 0 files failed.\n"
     ]
    },
    {
     "name": "stderr",
     "output_type": "stream",
     "text": [
      "2025-10-23 00:53:06 INFO     ... 'Історія України/5 клас/Урок 2/5 клас_2 урок_презентація.pptx' done [34/50]\n",
      "2025-10-23 00:53:06 INFO     [13/28] Processing 'Історія України/6 клас/Урок 1/6 клас_1 урок_конспект.docx' (1vyNH6np_ZRpMqD50W3Ochp_CX7Kn4B3M)\n",
      "2025-10-23 00:53:06 INFO     > File '1vyNH6np_ZRpMqD50W3Ochp_CX7Kn4B3M' is already downloaded. Skipping download.\n",
      "2025-10-23 00:53:06 INFO     > Converting 1vyNH6np_ZRpMqD50W3Ochp_CX7Kn4B3M\n"
     ]
    },
    {
     "data": {
      "application/vnd.jupyter.widget-view+json": {
       "model_id": "a8b7e595b71a41f4b7a298916404561d",
       "version_major": 2,
       "version_minor": 0
      },
      "text/plain": [
       "  0%|          | 0/1 [00:00<?, ?it/s]"
      ]
     },
     "metadata": {},
     "output_type": "display_data"
    },
    {
     "name": "stderr",
     "output_type": "stream",
     "text": [
      "2025-10-23 00:53:10 INFO     > Uploading 1vyNH6np_ZRpMqD50W3Ochp_CX7Kn4B3M\n",
      "2025-10-23 00:53:13 INFO     ... 'Історія України/6 клас/Урок 1/6 клас_1 урок_конспект.docx' done [35/50]\n",
      "2025-10-23 00:53:13 INFO     [14/28] Processing 'Історія України/6 клас/Урок 1/6 клас_1 урок_презентація.pptx' (1rDVOwVALwOEX2jNZyImPOfZisxEntao_)\n",
      "2025-10-23 00:53:13 INFO     > File '1rDVOwVALwOEX2jNZyImPOfZisxEntao_' is already downloaded. Skipping download.\n",
      "2025-10-23 00:53:13 INFO     > Converting 1rDVOwVALwOEX2jNZyImPOfZisxEntao_\n",
      "2025-10-23 00:53:20 INFO     > Uploading 1rDVOwVALwOEX2jNZyImPOfZisxEntao_\n"
     ]
    },
    {
     "name": "stdout",
     "output_type": "stream",
     "text": [
      "Conversion completed: 1 files converted successfully, 0 files failed.\n"
     ]
    },
    {
     "name": "stderr",
     "output_type": "stream",
     "text": [
      "2025-10-23 00:53:23 INFO     ... 'Історія України/6 клас/Урок 1/6 клас_1 урок_презентація.pptx' done [36/50]\n",
      "2025-10-23 00:53:23 INFO     [15/28] Processing 'Історія України/6 клас/Урок 2/6 клас_2 урок_конспект.docx' (1RI7xhgqFd1VxMIu_GeLtr2afsaRiC0Fy)\n",
      "2025-10-23 00:53:23 INFO     > File '1RI7xhgqFd1VxMIu_GeLtr2afsaRiC0Fy' is already downloaded. Skipping download.\n",
      "2025-10-23 00:53:23 INFO     > Converting 1RI7xhgqFd1VxMIu_GeLtr2afsaRiC0Fy\n"
     ]
    },
    {
     "data": {
      "application/vnd.jupyter.widget-view+json": {
       "model_id": "13697e521b494b94adcfc087d3ec51ef",
       "version_major": 2,
       "version_minor": 0
      },
      "text/plain": [
       "  0%|          | 0/1 [00:00<?, ?it/s]"
      ]
     },
     "metadata": {},
     "output_type": "display_data"
    },
    {
     "name": "stderr",
     "output_type": "stream",
     "text": [
      "2025-10-23 00:53:28 INFO     > Uploading 1RI7xhgqFd1VxMIu_GeLtr2afsaRiC0Fy\n",
      "2025-10-23 00:53:30 INFO     ... 'Історія України/6 клас/Урок 2/6 клас_2 урок_конспект.docx' done [37/50]\n",
      "2025-10-23 00:53:30 INFO     [16/28] Processing 'Історія України/6 клас/Урок 2/6 клас_2 урок_презентація.pptx' (1VftKwSLtldUDuj0_kUrm9YJ1lZ3zlSqc)\n",
      "2025-10-23 00:53:30 INFO     > File '1VftKwSLtldUDuj0_kUrm9YJ1lZ3zlSqc' is already downloaded. Skipping download.\n",
      "2025-10-23 00:53:30 INFO     > Converting 1VftKwSLtldUDuj0_kUrm9YJ1lZ3zlSqc\n",
      "2025-10-23 00:53:37 INFO     > Uploading 1VftKwSLtldUDuj0_kUrm9YJ1lZ3zlSqc\n"
     ]
    },
    {
     "name": "stdout",
     "output_type": "stream",
     "text": [
      "Conversion completed: 1 files converted successfully, 0 files failed.\n"
     ]
    },
    {
     "name": "stderr",
     "output_type": "stream",
     "text": [
      "2025-10-23 00:53:40 INFO     ... 'Історія України/6 клас/Урок 2/6 клас_2 урок_презентація.pptx' done [38/50]\n",
      "2025-10-23 00:53:40 INFO     [17/28] Processing 'Історія України/7 клас/Урок 1/7 клас_1 урок_конспект.docx' (14dMBUpRyD1vL1g7I9kMFeanBx5sfrCBx)\n",
      "2025-10-23 00:53:40 INFO     > File '14dMBUpRyD1vL1g7I9kMFeanBx5sfrCBx' is already downloaded. Skipping download.\n",
      "2025-10-23 00:53:40 INFO     > Converting 14dMBUpRyD1vL1g7I9kMFeanBx5sfrCBx\n"
     ]
    },
    {
     "data": {
      "application/vnd.jupyter.widget-view+json": {
       "model_id": "78d17f2ee2fb4bf3a789e77ec58f9749",
       "version_major": 2,
       "version_minor": 0
      },
      "text/plain": [
       "  0%|          | 0/1 [00:00<?, ?it/s]"
      ]
     },
     "metadata": {},
     "output_type": "display_data"
    },
    {
     "name": "stderr",
     "output_type": "stream",
     "text": [
      "2025-10-23 00:53:44 INFO     > Uploading 14dMBUpRyD1vL1g7I9kMFeanBx5sfrCBx\n",
      "2025-10-23 00:53:46 INFO     ... 'Історія України/7 клас/Урок 1/7 клас_1 урок_конспект.docx' done [39/50]\n",
      "2025-10-23 00:53:46 INFO     [18/28] Processing 'Історія України/7 клас/Урок 1/7 клас_1 урок_презентація.pptx' (1phJ7MnBnzX84HdMsXEm5V2FX0P904Jr9)\n",
      "2025-10-23 00:53:46 INFO     > File '1phJ7MnBnzX84HdMsXEm5V2FX0P904Jr9' is already downloaded. Skipping download.\n",
      "2025-10-23 00:53:46 INFO     > Converting 1phJ7MnBnzX84HdMsXEm5V2FX0P904Jr9\n",
      "2025-10-23 00:53:57 INFO     > Uploading 1phJ7MnBnzX84HdMsXEm5V2FX0P904Jr9\n"
     ]
    },
    {
     "name": "stdout",
     "output_type": "stream",
     "text": [
      "Conversion completed: 1 files converted successfully, 0 files failed.\n"
     ]
    },
    {
     "name": "stderr",
     "output_type": "stream",
     "text": [
      "2025-10-23 00:53:59 INFO     ... 'Історія України/7 клас/Урок 1/7 клас_1 урок_презентація.pptx' done [40/50]\n",
      "2025-10-23 00:53:59 INFO     [19/28] Processing 'Історія України/7 клас/Урок 2/Клас 7_Урок 2_конспект.docx' (1OHAtSGLm5jhUp71C3clFPw43pchC33nO)\n",
      "2025-10-23 00:53:59 INFO     > File '1OHAtSGLm5jhUp71C3clFPw43pchC33nO' is already downloaded. Skipping download.\n",
      "2025-10-23 00:53:59 INFO     > Converting 1OHAtSGLm5jhUp71C3clFPw43pchC33nO\n"
     ]
    },
    {
     "data": {
      "application/vnd.jupyter.widget-view+json": {
       "model_id": "b6cd30ad0d324e169e8e2c5be860d443",
       "version_major": 2,
       "version_minor": 0
      },
      "text/plain": [
       "  0%|          | 0/1 [00:00<?, ?it/s]"
      ]
     },
     "metadata": {},
     "output_type": "display_data"
    },
    {
     "name": "stderr",
     "output_type": "stream",
     "text": [
      "2025-10-23 00:54:03 INFO     > Uploading 1OHAtSGLm5jhUp71C3clFPw43pchC33nO\n",
      "2025-10-23 00:54:06 INFO     ... 'Історія України/7 клас/Урок 2/Клас 7_Урок 2_конспект.docx' done [41/50]\n",
      "2025-10-23 00:54:06 INFO     [20/28] Processing 'Історія України/7 клас/Урок 2/Клас 7_Урок 2_презентація.pptx' (1IpENUKZuI9sT6eKd-hDGU4otT1erNXV0)\n",
      "2025-10-23 00:54:06 INFO     > File '1IpENUKZuI9sT6eKd-hDGU4otT1erNXV0' is already downloaded. Skipping download.\n",
      "2025-10-23 00:54:06 INFO     > Converting 1IpENUKZuI9sT6eKd-hDGU4otT1erNXV0\n",
      "2025-10-23 00:54:12 INFO     > Uploading 1IpENUKZuI9sT6eKd-hDGU4otT1erNXV0\n"
     ]
    },
    {
     "name": "stdout",
     "output_type": "stream",
     "text": [
      "Conversion completed: 1 files converted successfully, 0 files failed.\n"
     ]
    },
    {
     "name": "stderr",
     "output_type": "stream",
     "text": [
      "2025-10-23 00:54:15 INFO     ... 'Історія України/7 клас/Урок 2/Клас 7_Урок 2_презентація.pptx' done [42/50]\n",
      "2025-10-23 00:54:15 INFO     [21/28] Processing 'Історія України/8 клас/Урок 1/8 клас_1 урок_конспект.docx' (1C6MUvwm4OAcevfFyo-8aUQt0UnjKw91g)\n",
      "2025-10-23 00:54:15 INFO     > File '1C6MUvwm4OAcevfFyo-8aUQt0UnjKw91g' is already downloaded. Skipping download.\n",
      "2025-10-23 00:54:15 INFO     > Converting 1C6MUvwm4OAcevfFyo-8aUQt0UnjKw91g\n"
     ]
    },
    {
     "data": {
      "application/vnd.jupyter.widget-view+json": {
       "model_id": "50854f30130c4861b1d7c6153cf698cf",
       "version_major": 2,
       "version_minor": 0
      },
      "text/plain": [
       "  0%|          | 0/1 [00:00<?, ?it/s]"
      ]
     },
     "metadata": {},
     "output_type": "display_data"
    },
    {
     "name": "stderr",
     "output_type": "stream",
     "text": [
      "2025-10-23 00:54:19 INFO     > Uploading 1C6MUvwm4OAcevfFyo-8aUQt0UnjKw91g\n",
      "2025-10-23 00:54:21 INFO     ... 'Історія України/8 клас/Урок 1/8 клас_1 урок_конспект.docx' done [43/50]\n",
      "2025-10-23 00:54:21 INFO     [22/28] Processing 'Історія України/8 клас/Урок 1/8 клас_1 урок_презентація.pptx' (1gM2hjjbaRzGLs1GxMoJaIigMXvyg5QhD)\n",
      "2025-10-23 00:54:21 INFO     > File '1gM2hjjbaRzGLs1GxMoJaIigMXvyg5QhD' is already downloaded. Skipping download.\n",
      "2025-10-23 00:54:21 INFO     > Converting 1gM2hjjbaRzGLs1GxMoJaIigMXvyg5QhD\n",
      "2025-10-23 00:54:28 INFO     > Uploading 1gM2hjjbaRzGLs1GxMoJaIigMXvyg5QhD\n"
     ]
    },
    {
     "name": "stdout",
     "output_type": "stream",
     "text": [
      "Conversion completed: 1 files converted successfully, 0 files failed.\n"
     ]
    },
    {
     "name": "stderr",
     "output_type": "stream",
     "text": [
      "2025-10-23 00:54:31 INFO     ... 'Історія України/8 клас/Урок 1/8 клас_1 урок_презентація.pptx' done [44/50]\n",
      "2025-10-23 00:54:31 INFO     [23/28] Processing 'Історія України/8 клас/Урок 2/Клас 8_Урок 2_конспект.docx' (1BYr8X1LzuzsQTJlhUBueLwOcX3w9NsSW)\n",
      "2025-10-23 00:54:31 INFO     > File '1BYr8X1LzuzsQTJlhUBueLwOcX3w9NsSW' is already downloaded. Skipping download.\n",
      "2025-10-23 00:54:31 INFO     > Converting 1BYr8X1LzuzsQTJlhUBueLwOcX3w9NsSW\n"
     ]
    },
    {
     "data": {
      "application/vnd.jupyter.widget-view+json": {
       "model_id": "f0694d217fa44f4b98b1a0bc1a03de67",
       "version_major": 2,
       "version_minor": 0
      },
      "text/plain": [
       "  0%|          | 0/1 [00:00<?, ?it/s]"
      ]
     },
     "metadata": {},
     "output_type": "display_data"
    },
    {
     "name": "stderr",
     "output_type": "stream",
     "text": [
      "2025-10-23 00:54:35 INFO     > Uploading 1BYr8X1LzuzsQTJlhUBueLwOcX3w9NsSW\n",
      "2025-10-23 00:54:37 INFO     ... 'Історія України/8 клас/Урок 2/Клас 8_Урок 2_конспект.docx' done [45/50]\n",
      "2025-10-23 00:54:37 INFO     [24/28] Processing 'Історія України/8 клас/Урок 2/Клас 8_Урок 2_презентація.pptx' (1_mXKtDwK35iL7S3mK6NaHe7EKsftv2xE)\n",
      "2025-10-23 00:54:37 INFO     > File '1_mXKtDwK35iL7S3mK6NaHe7EKsftv2xE' is already downloaded. Skipping download.\n",
      "2025-10-23 00:54:37 INFO     > Converting 1_mXKtDwK35iL7S3mK6NaHe7EKsftv2xE\n",
      "2025-10-23 00:54:43 INFO     > Uploading 1_mXKtDwK35iL7S3mK6NaHe7EKsftv2xE\n"
     ]
    },
    {
     "name": "stdout",
     "output_type": "stream",
     "text": [
      "Conversion completed: 1 files converted successfully, 0 files failed.\n"
     ]
    },
    {
     "name": "stderr",
     "output_type": "stream",
     "text": [
      "2025-10-23 00:54:46 INFO     ... 'Історія України/8 клас/Урок 2/Клас 8_Урок 2_презентація.pptx' done [46/50]\n",
      "2025-10-23 00:54:46 INFO     [25/28] Processing 'Історія України/9 клас/Урок 1/9 клас_1 урок_конспект.docx' (16S0M2N26dt_ZKnybQHtnVDdTxBemNGw9)\n",
      "2025-10-23 00:54:46 INFO     > File '16S0M2N26dt_ZKnybQHtnVDdTxBemNGw9' is already downloaded. Skipping download.\n",
      "2025-10-23 00:54:46 INFO     > Converting 16S0M2N26dt_ZKnybQHtnVDdTxBemNGw9\n"
     ]
    },
    {
     "data": {
      "application/vnd.jupyter.widget-view+json": {
       "model_id": "344d99232ebb41998368c212bc0ff44c",
       "version_major": 2,
       "version_minor": 0
      },
      "text/plain": [
       "  0%|          | 0/1 [00:00<?, ?it/s]"
      ]
     },
     "metadata": {},
     "output_type": "display_data"
    },
    {
     "name": "stderr",
     "output_type": "stream",
     "text": [
      "2025-10-23 00:54:49 INFO     > Uploading 16S0M2N26dt_ZKnybQHtnVDdTxBemNGw9\n",
      "2025-10-23 00:54:52 INFO     ... 'Історія України/9 клас/Урок 1/9 клас_1 урок_конспект.docx' done [47/50]\n",
      "2025-10-23 00:54:52 INFO     [26/28] Processing 'Історія України/9 клас/Урок 1/9 клас_1 урок_презенація.pptx' (1x_Gc16NmHnnB3SyvX8Os5Gh9loVORdQD)\n",
      "2025-10-23 00:54:52 INFO     > File '1x_Gc16NmHnnB3SyvX8Os5Gh9loVORdQD' is already downloaded. Skipping download.\n",
      "2025-10-23 00:54:52 INFO     > Converting 1x_Gc16NmHnnB3SyvX8Os5Gh9loVORdQD\n",
      "2025-10-23 00:55:02 INFO     > Uploading 1x_Gc16NmHnnB3SyvX8Os5Gh9loVORdQD\n"
     ]
    },
    {
     "name": "stdout",
     "output_type": "stream",
     "text": [
      "Conversion completed: 1 files converted successfully, 0 files failed.\n"
     ]
    },
    {
     "name": "stderr",
     "output_type": "stream",
     "text": [
      "2025-10-23 00:55:05 INFO     ... 'Історія України/9 клас/Урок 1/9 клас_1 урок_презенація.pptx' done [48/50]\n",
      "2025-10-23 00:55:05 INFO     [27/28] Processing 'Історія України/9 клас/Урок 2/Клас 9_Урок 2_конспект.docx' (1nqFpbQjrmJU2g2PhcXKCvmPEwKhFvVbD)\n",
      "2025-10-23 00:55:05 INFO     > File '1nqFpbQjrmJU2g2PhcXKCvmPEwKhFvVbD' is already downloaded. Skipping download.\n",
      "2025-10-23 00:55:05 INFO     > Converting 1nqFpbQjrmJU2g2PhcXKCvmPEwKhFvVbD\n"
     ]
    },
    {
     "data": {
      "application/vnd.jupyter.widget-view+json": {
       "model_id": "bd93f920de194e93b73260d71893309e",
       "version_major": 2,
       "version_minor": 0
      },
      "text/plain": [
       "  0%|          | 0/1 [00:00<?, ?it/s]"
      ]
     },
     "metadata": {},
     "output_type": "display_data"
    },
    {
     "name": "stderr",
     "output_type": "stream",
     "text": [
      "2025-10-23 00:55:10 INFO     > Uploading 1nqFpbQjrmJU2g2PhcXKCvmPEwKhFvVbD\n",
      "2025-10-23 00:55:13 INFO     ... 'Історія України/9 клас/Урок 2/Клас 9_Урок 2_конспект.docx' done [49/50]\n",
      "2025-10-23 00:55:13 INFO     [28/28] Processing 'Історія України/9 клас/Урок 2/Клас 9_Урок 2_презентація.pptx' (18b5vlDeznITtDhCicWgOyXuIi99s2cFk)\n",
      "2025-10-23 00:55:13 INFO     > File '18b5vlDeznITtDhCicWgOyXuIi99s2cFk' is already downloaded. Skipping download.\n",
      "2025-10-23 00:55:13 INFO     > Converting 18b5vlDeznITtDhCicWgOyXuIi99s2cFk\n",
      "2025-10-23 00:55:20 INFO     > Uploading 18b5vlDeznITtDhCicWgOyXuIi99s2cFk\n"
     ]
    },
    {
     "name": "stdout",
     "output_type": "stream",
     "text": [
      "Conversion completed: 1 files converted successfully, 0 files failed.\n"
     ]
    },
    {
     "name": "stderr",
     "output_type": "stream",
     "text": [
      "2025-10-23 00:55:23 INFO     ... 'Історія України/9 клас/Урок 2/Клас 9_Урок 2_презентація.pptx' done [50/50]\n",
      "2025-10-23 00:55:23 INFO     Upload converted PDF complete.\n"
     ]
    }
   ],
   "source": [
    "tools.convert_inventory_to_pdf(\n",
    "    service, df, inventory_csv, \n",
    "    local_parent_dir='HISTORY', selected_roots=selected_root_ids,\n",
    "    token_file='token.json', name_prefix='')"
   ]
  }
 ],
 "metadata": {
  "kernelspec": {
   "display_name": "ukrcomponent-uploader",
   "language": "python",
   "name": "python3"
  },
  "language_info": {
   "codemirror_mode": {
    "name": "ipython",
    "version": 3
   },
   "file_extension": ".py",
   "mimetype": "text/x-python",
   "name": "python",
   "nbconvert_exporter": "python",
   "pygments_lexer": "ipython3",
   "version": "3.13.6"
  }
 },
 "nbformat": 4,
 "nbformat_minor": 5
}
