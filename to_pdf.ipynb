{
 "cells": [
  {
   "cell_type": "code",
   "execution_count": 1,
   "id": "510c71ca",
   "metadata": {},
   "outputs": [],
   "source": [
    "import tools\n",
    "from tools import ScanParams, CopyParams\n",
    "\n",
    "import logging\n",
    "logging.basicConfig(\n",
    "    format='%(asctime)s %(levelname)-8s %(message)s',\n",
    "    level=logging.INFO,\n",
    "    datefmt='%Y-%m-%d %H:%M:%S')"
   ]
  },
  {
   "cell_type": "markdown",
   "id": "e73751c9",
   "metadata": {},
   "source": [
    "## Manual mode"
   ]
  },
  {
   "cell_type": "code",
   "execution_count": 2,
   "id": "f9e609c4",
   "metadata": {},
   "outputs": [
    {
     "name": "stderr",
     "output_type": "stream",
     "text": [
      "2025-10-23 20:48:50 INFO     Token ok but expired. Refreshing\n",
      "2025-10-23 20:48:50 INFO     file_cache is only supported with oauth2client<4.0.0\n"
     ]
    },
    {
     "data": {
      "text/plain": [
       "\"'1xy3NtAtHnEdleB9sypj3_WCUUFuhBh3V' in parents and trashed = false\""
      ]
     },
     "execution_count": 2,
     "metadata": {},
     "output_type": "execute_result"
    }
   ],
   "source": [
    "from tools import auth_drive, drive_get, drive_list, drive_create, list_children\n",
    "logger = logging.getLogger('ipynb')\n",
    "\n",
    "token_file = None\n",
    "inventory_csv = \"UC_mova_inventory.csv\"\n",
    "folders_csv = \"UC_mova_folders.csv\"\n",
    "\n",
    "service = auth_drive('token.json')\n",
    "\n",
    "# root_id = '1SlONqF9zjE3P80yz-SvyQM3g7r_a1xAd'  # UC History\n",
    "root_id = '1xy3NtAtHnEdleB9sypj3_WCUUFuhBh3V' # UC Mova\n",
    "root_meta = drive_get(service, root_id, fields='id,name,mimeType,parents,size,modifiedTime')\n",
    "root_name = root_meta.get('name', 'Unknown')\n",
    "q = f\"'{root_id}' in parents and trashed = false\"\n",
    "q"
   ]
  },
  {
   "cell_type": "code",
   "execution_count": 8,
   "id": "038bdb3e",
   "metadata": {},
   "outputs": [],
   "source": [
    "import os\n",
    "import shutil\n",
    "def backup_inventory():\n",
    "    logger.info(f\"Backing up '{inventory_csv}' to '{inventory_csv}.bak\")\n",
    "    shutil.copy(inventory_csv, inventory_csv+'.bak')\n",
    "\n",
    "def restore_inventory():\n",
    "    logger.info(f\"Overwriting '{inventory_csv}' using '{inventory_csv}.bak\")\n",
    "    shutil.copy(inventory_csv+'.bak', inventory_csv)"
   ]
  },
  {
   "cell_type": "code",
   "execution_count": 13,
   "id": "9e85ed01",
   "metadata": {},
   "outputs": [
    {
     "name": "stderr",
     "output_type": "stream",
     "text": [
      "2025-10-23 19:58:23 INFO     Backing up 'UC_mova_inventory.csv' to 'UC_mova_inventory.csv.bak\n"
     ]
    }
   ],
   "source": [
    "backup_inventory()"
   ]
  },
  {
   "cell_type": "code",
   "execution_count": 7,
   "id": "f06ed21f",
   "metadata": {},
   "outputs": [
    {
     "name": "stderr",
     "output_type": "stream",
     "text": [
      "2025-10-23 00:44:32 INFO     Overwriting 'UC_history_inventory.csv' using 'UC_history_inventory.csv.bak\n"
     ]
    }
   ],
   "source": [
    "restore_inventory()"
   ]
  },
  {
   "cell_type": "markdown",
   "id": "3949d7a3",
   "metadata": {},
   "source": [
    "## Auto mode"
   ]
  },
  {
   "cell_type": "markdown",
   "id": "1942ee69",
   "metadata": {},
   "source": [
    "1. Scan a folder"
   ]
  },
  {
   "cell_type": "code",
   "execution_count": 5,
   "id": "0497f900",
   "metadata": {},
   "outputs": [
    {
     "name": "stderr",
     "output_type": "stream",
     "text": [
      "2025-10-23 19:30:52 INFO     file_cache is only supported with oauth2client<4.0.0\n"
     ]
    },
    {
     "name": "stderr",
     "output_type": "stream",
     "text": [
      "2025-10-23 19:30:52 INFO     Scanning 1 root folder(s)...\n",
      "2025-10-23 19:30:52 INFO     Scanning root: history (1xy3NtAtHnEdleB9sypj3_WCUUFuhBh3V)\n",
      "2025-10-23 19:30:53 INFO     ! Root Українська мова (1xy3NtAtHnEdleB9sypj3_WCUUFuhBh3V) is on a shared drive (https://drive.google.com/drive/folders/0ANqgtgU9ZamEUk9PVA)\n",
      "2025-10-23 19:31:07 INFO     Scan complete. Inventory saved to UC_mova_inventory.csv\n"
     ]
    }
   ],
   "source": [
    "# tools.cmd_scan(ScanParams(\"UC_history_folders.csv\",\"UC_history_inventory.csv\",None,batch_flush=100,token_file=None))\n",
    "tools.cmd_scan(ScanParams(\"UC_mova_folders.csv\",\"UC_mova_inventory.csv\",None,batch_flush=100,token_file=None))"
   ]
  },
  {
   "cell_type": "markdown",
   "id": "fb8ae0f8",
   "metadata": {},
   "source": [
    "2. run an exporter"
   ]
  },
  {
   "cell_type": "markdown",
   "id": "756a808b",
   "metadata": {},
   "source": [
    "---"
   ]
  },
  {
   "cell_type": "code",
   "execution_count": 3,
   "id": "5e510ea3",
   "metadata": {},
   "outputs": [
    {
     "data": {
      "text/html": [
       "<div>\n",
       "<style scoped>\n",
       "    .dataframe tbody tr th:only-of-type {\n",
       "        vertical-align: middle;\n",
       "    }\n",
       "\n",
       "    .dataframe tbody tr th {\n",
       "        vertical-align: top;\n",
       "    }\n",
       "\n",
       "    .dataframe thead th {\n",
       "        text-align: right;\n",
       "    }\n",
       "</style>\n",
       "<table border=\"1\" class=\"dataframe\">\n",
       "  <thead>\n",
       "    <tr style=\"text-align: right;\">\n",
       "      <th></th>\n",
       "      <th>root_id</th>\n",
       "      <th>root_name</th>\n",
       "      <th>id</th>\n",
       "      <th>name</th>\n",
       "      <th>mimeType</th>\n",
       "      <th>parent_id</th>\n",
       "      <th>path</th>\n",
       "      <th>size</th>\n",
       "      <th>modifiedTime</th>\n",
       "      <th>status</th>\n",
       "      <th>dest_id</th>\n",
       "      <th>error</th>\n",
       "      <th>last_attempt</th>\n",
       "      <th>retries</th>\n",
       "      <th>local_path</th>\n",
       "      <th>root_dest_id</th>\n",
       "      <th>drive_id</th>\n",
       "    </tr>\n",
       "  </thead>\n",
       "  <tbody>\n",
       "    <tr>\n",
       "      <th>0</th>\n",
       "      <td>1xy3NtAtHnEdleB9sypj3_WCUUFuhBh3V</td>\n",
       "      <td>Українська мова</td>\n",
       "      <td>1xy3NtAtHnEdleB9sypj3_WCUUFuhBh3V</td>\n",
       "      <td>Українська мова</td>\n",
       "      <td>application/vnd.google-apps.folder</td>\n",
       "      <td></td>\n",
       "      <td>Українська мова</td>\n",
       "      <td></td>\n",
       "      <td>2025-09-30T10:07:04.639Z</td>\n",
       "      <td>done</td>\n",
       "      <td>1jI4kYwU_x0Bu6iaHxwtjCbmgboYg1gyZ</td>\n",
       "      <td></td>\n",
       "      <td>2025-10-23T17:29:02+00:00Z</td>\n",
       "      <td>0</td>\n",
       "      <td></td>\n",
       "      <td>1Yd4EDx8t95HbEB0dqOwvwgpNWEaFO-eL</td>\n",
       "      <td>0ANqgtgU9ZamEUk9PVA</td>\n",
       "    </tr>\n",
       "    <tr>\n",
       "      <th>1</th>\n",
       "      <td>1xy3NtAtHnEdleB9sypj3_WCUUFuhBh3V</td>\n",
       "      <td>Українська мова</td>\n",
       "      <td>1U9yd_Bh_AemrleZ0TjG70x0Pp4cAi_gF</td>\n",
       "      <td>11 клас</td>\n",
       "      <td>application/vnd.google-apps.folder</td>\n",
       "      <td>1xy3NtAtHnEdleB9sypj3_WCUUFuhBh3V</td>\n",
       "      <td>11 клас</td>\n",
       "      <td></td>\n",
       "      <td>2025-09-30T10:07:56.186Z</td>\n",
       "      <td>done</td>\n",
       "      <td>1Y06hrPu3YWurlcMX27u_bCI7L4pg5Rgv</td>\n",
       "      <td></td>\n",
       "      <td>2025-10-23T17:29:03+00:00Z</td>\n",
       "      <td>0</td>\n",
       "      <td></td>\n",
       "      <td>1Yd4EDx8t95HbEB0dqOwvwgpNWEaFO-eL</td>\n",
       "      <td>0ANqgtgU9ZamEUk9PVA</td>\n",
       "    </tr>\n",
       "    <tr>\n",
       "      <th>2</th>\n",
       "      <td>1xy3NtAtHnEdleB9sypj3_WCUUFuhBh3V</td>\n",
       "      <td>Українська мова</td>\n",
       "      <td>1LChF16pTV1Y_V3xBQ2xKfl1HLWLpDzMO</td>\n",
       "      <td>10 клас</td>\n",
       "      <td>application/vnd.google-apps.folder</td>\n",
       "      <td>1xy3NtAtHnEdleB9sypj3_WCUUFuhBh3V</td>\n",
       "      <td>10 клас</td>\n",
       "      <td></td>\n",
       "      <td>2025-09-30T10:07:51.937Z</td>\n",
       "      <td>done</td>\n",
       "      <td>1t0sMf7fcnmOBtK9Hn73gNv5OQ8ydG1SO</td>\n",
       "      <td></td>\n",
       "      <td>2025-10-23T17:29:02+00:00Z</td>\n",
       "      <td>0</td>\n",
       "      <td></td>\n",
       "      <td>1Yd4EDx8t95HbEB0dqOwvwgpNWEaFO-eL</td>\n",
       "      <td>0ANqgtgU9ZamEUk9PVA</td>\n",
       "    </tr>\n",
       "    <tr>\n",
       "      <th>3</th>\n",
       "      <td>1xy3NtAtHnEdleB9sypj3_WCUUFuhBh3V</td>\n",
       "      <td>Українська мова</td>\n",
       "      <td>1mBTzztfyDPu_R7ExqclSfuaNUmf1FkqK</td>\n",
       "      <td>9 клас</td>\n",
       "      <td>application/vnd.google-apps.folder</td>\n",
       "      <td>1xy3NtAtHnEdleB9sypj3_WCUUFuhBh3V</td>\n",
       "      <td>9 клас</td>\n",
       "      <td></td>\n",
       "      <td>2025-09-30T10:07:47.985Z</td>\n",
       "      <td>done</td>\n",
       "      <td>1iiId043EJfwp39fIbkaYDE40uHdw59Lj</td>\n",
       "      <td></td>\n",
       "      <td>2025-10-23T17:29:12+00:00Z</td>\n",
       "      <td>0</td>\n",
       "      <td></td>\n",
       "      <td>1Yd4EDx8t95HbEB0dqOwvwgpNWEaFO-eL</td>\n",
       "      <td>0ANqgtgU9ZamEUk9PVA</td>\n",
       "    </tr>\n",
       "    <tr>\n",
       "      <th>4</th>\n",
       "      <td>1xy3NtAtHnEdleB9sypj3_WCUUFuhBh3V</td>\n",
       "      <td>Українська мова</td>\n",
       "      <td>1bTVkcU0YwBUXtIXdQJQGHSpwjRuksA1H</td>\n",
       "      <td>8 клас</td>\n",
       "      <td>application/vnd.google-apps.folder</td>\n",
       "      <td>1xy3NtAtHnEdleB9sypj3_WCUUFuhBh3V</td>\n",
       "      <td>8 клас</td>\n",
       "      <td></td>\n",
       "      <td>2025-09-30T10:07:43.947Z</td>\n",
       "      <td>done</td>\n",
       "      <td>1aPFP_NwoMTX5wUnr_w16zdo39-6GCS04</td>\n",
       "      <td></td>\n",
       "      <td>2025-10-23T17:29:11+00:00Z</td>\n",
       "      <td>0</td>\n",
       "      <td></td>\n",
       "      <td>1Yd4EDx8t95HbEB0dqOwvwgpNWEaFO-eL</td>\n",
       "      <td>0ANqgtgU9ZamEUk9PVA</td>\n",
       "    </tr>\n",
       "    <tr>\n",
       "      <th>...</th>\n",
       "      <td>...</td>\n",
       "      <td>...</td>\n",
       "      <td>...</td>\n",
       "      <td>...</td>\n",
       "      <td>...</td>\n",
       "      <td>...</td>\n",
       "      <td>...</td>\n",
       "      <td>...</td>\n",
       "      <td>...</td>\n",
       "      <td>...</td>\n",
       "      <td>...</td>\n",
       "      <td>...</td>\n",
       "      <td>...</td>\n",
       "      <td>...</td>\n",
       "      <td>...</td>\n",
       "      <td>...</td>\n",
       "      <td>...</td>\n",
       "    </tr>\n",
       "    <tr>\n",
       "      <th>61</th>\n",
       "      <td>1xy3NtAtHnEdleB9sypj3_WCUUFuhBh3V</td>\n",
       "      <td>Українська мова</td>\n",
       "      <td>1aAjUM6xMeg665sVefKFfpgC2wJW0fFPA</td>\n",
       "      <td>11 клас_Урок 1_конспект.docx</td>\n",
       "      <td>application/vnd.openxmlformats-officedocument....</td>\n",
       "      <td>1-dYOW7u70I7rRSlGDDxQsXTJLlC6CtLv</td>\n",
       "      <td>11 клас_Урок 1_конспект.docx</td>\n",
       "      <td>8627511</td>\n",
       "      <td>2025-10-02T00:10:59.000Z</td>\n",
       "      <td>error</td>\n",
       "      <td></td>\n",
       "      <td>(-2147352567, 'Exception occurred.', (0, 'Micr...</td>\n",
       "      <td>2025-10-23T17:47:30+00:00Z</td>\n",
       "      <td>4</td>\n",
       "      <td>MOVA\\11 клас_Урок 1_конспект.docx.pdf</td>\n",
       "      <td>1Yd4EDx8t95HbEB0dqOwvwgpNWEaFO-eL</td>\n",
       "      <td>0ANqgtgU9ZamEUk9PVA</td>\n",
       "    </tr>\n",
       "    <tr>\n",
       "      <th>62</th>\n",
       "      <td>1xy3NtAtHnEdleB9sypj3_WCUUFuhBh3V</td>\n",
       "      <td>Українська мова</td>\n",
       "      <td>1WfATctR7I4_9ATpw4N9VCdQ2_m9AtHdN</td>\n",
       "      <td>11 клас_Урок 2_конспект.docx</td>\n",
       "      <td>application/vnd.openxmlformats-officedocument....</td>\n",
       "      <td>17Ei6UYATNL53Mo0o9Ag2ygsagGTYdHjU</td>\n",
       "      <td>11 клас_Урок 2_конспект.docx</td>\n",
       "      <td>7602990</td>\n",
       "      <td>2025-10-22T05:38:00.000Z</td>\n",
       "      <td>error</td>\n",
       "      <td></td>\n",
       "      <td>(-2147352567, 'Exception occurred.', (0, 'Micr...</td>\n",
       "      <td>2025-10-23T17:47:30+00:00Z</td>\n",
       "      <td>4</td>\n",
       "      <td>MOVA\\11 клас_Урок 2_конспект.docx.pdf</td>\n",
       "      <td>1Yd4EDx8t95HbEB0dqOwvwgpNWEaFO-eL</td>\n",
       "      <td>0ANqgtgU9ZamEUk9PVA</td>\n",
       "    </tr>\n",
       "    <tr>\n",
       "      <th>63</th>\n",
       "      <td>1xy3NtAtHnEdleB9sypj3_WCUUFuhBh3V</td>\n",
       "      <td>Українська мова</td>\n",
       "      <td>1rspGz8hJqLMAOUHDqmPXNwkkF7Yjgj0H</td>\n",
       "      <td>11 клас_ Урок 2_презентація.pptx</td>\n",
       "      <td>application/vnd.openxmlformats-officedocument....</td>\n",
       "      <td>17Ei6UYATNL53Mo0o9Ag2ygsagGTYdHjU</td>\n",
       "      <td>11 клас_ Урок 2_презентація.pptx</td>\n",
       "      <td>14569933</td>\n",
       "      <td>2025-10-02T00:11:51.000Z</td>\n",
       "      <td>error</td>\n",
       "      <td></td>\n",
       "      <td>Local file not found: MOVA\\11 клас_ Урок 2_пре...</td>\n",
       "      <td>2025-10-23T17:47:30+00:00Z</td>\n",
       "      <td>4</td>\n",
       "      <td>MOVA\\11 клас_ Урок 2_презентація.pptx.pdf</td>\n",
       "      <td>1Yd4EDx8t95HbEB0dqOwvwgpNWEaFO-eL</td>\n",
       "      <td>0ANqgtgU9ZamEUk9PVA</td>\n",
       "    </tr>\n",
       "    <tr>\n",
       "      <th>64</th>\n",
       "      <td>1xy3NtAtHnEdleB9sypj3_WCUUFuhBh3V</td>\n",
       "      <td>Українська мова</td>\n",
       "      <td>1N7q4SqOnGhxnwQVet8bimhqhxKfmBaB1</td>\n",
       "      <td>Клас 11_Урок 3_презентація.pptx</td>\n",
       "      <td>application/vnd.openxmlformats-officedocument....</td>\n",
       "      <td>1plwX7w2frvnppN4u4tGFbsSOMKwEX0Lb</td>\n",
       "      <td>Клас 11_Урок 3_презентація.pptx</td>\n",
       "      <td>11636734</td>\n",
       "      <td>2025-10-07T15:54:50.000Z</td>\n",
       "      <td>error</td>\n",
       "      <td></td>\n",
       "      <td>Local file not found: MOVA\\Клас 11_Урок 3_през...</td>\n",
       "      <td>2025-10-23T17:36:19+00:00Z</td>\n",
       "      <td>3</td>\n",
       "      <td>MOVA\\Клас 11_Урок 3_презентація.pptx.pdf</td>\n",
       "      <td>1Yd4EDx8t95HbEB0dqOwvwgpNWEaFO-eL</td>\n",
       "      <td>0ANqgtgU9ZamEUk9PVA</td>\n",
       "    </tr>\n",
       "    <tr>\n",
       "      <th>65</th>\n",
       "      <td>1xy3NtAtHnEdleB9sypj3_WCUUFuhBh3V</td>\n",
       "      <td>Українська мова</td>\n",
       "      <td>1fj6vjEU1YmzrdgIOVfxAPpV1V5MEuCK3</td>\n",
       "      <td>Клас 11_Урок 3_конспект.docx</td>\n",
       "      <td>application/vnd.openxmlformats-officedocument....</td>\n",
       "      <td>1plwX7w2frvnppN4u4tGFbsSOMKwEX0Lb</td>\n",
       "      <td>Клас 11_Урок 3_конспект.docx</td>\n",
       "      <td>6568173</td>\n",
       "      <td>2025-10-07T15:54:45.000Z</td>\n",
       "      <td>error</td>\n",
       "      <td></td>\n",
       "      <td>(-2147352567, 'Exception occurred.', (0, 'Micr...</td>\n",
       "      <td>2025-10-23T17:36:19+00:00Z</td>\n",
       "      <td>2</td>\n",
       "      <td>MOVA\\Клас 11_Урок 3_конспект.docx.pdf</td>\n",
       "      <td>1Yd4EDx8t95HbEB0dqOwvwgpNWEaFO-eL</td>\n",
       "      <td>0ANqgtgU9ZamEUk9PVA</td>\n",
       "    </tr>\n",
       "  </tbody>\n",
       "</table>\n",
       "<p>66 rows × 17 columns</p>\n",
       "</div>"
      ],
      "text/plain": [
       "                              root_id        root_name  \\\n",
       "0   1xy3NtAtHnEdleB9sypj3_WCUUFuhBh3V  Українська мова   \n",
       "1   1xy3NtAtHnEdleB9sypj3_WCUUFuhBh3V  Українська мова   \n",
       "2   1xy3NtAtHnEdleB9sypj3_WCUUFuhBh3V  Українська мова   \n",
       "3   1xy3NtAtHnEdleB9sypj3_WCUUFuhBh3V  Українська мова   \n",
       "4   1xy3NtAtHnEdleB9sypj3_WCUUFuhBh3V  Українська мова   \n",
       "..                                ...              ...   \n",
       "61  1xy3NtAtHnEdleB9sypj3_WCUUFuhBh3V  Українська мова   \n",
       "62  1xy3NtAtHnEdleB9sypj3_WCUUFuhBh3V  Українська мова   \n",
       "63  1xy3NtAtHnEdleB9sypj3_WCUUFuhBh3V  Українська мова   \n",
       "64  1xy3NtAtHnEdleB9sypj3_WCUUFuhBh3V  Українська мова   \n",
       "65  1xy3NtAtHnEdleB9sypj3_WCUUFuhBh3V  Українська мова   \n",
       "\n",
       "                                   id                              name  \\\n",
       "0   1xy3NtAtHnEdleB9sypj3_WCUUFuhBh3V                   Українська мова   \n",
       "1   1U9yd_Bh_AemrleZ0TjG70x0Pp4cAi_gF                           11 клас   \n",
       "2   1LChF16pTV1Y_V3xBQ2xKfl1HLWLpDzMO                           10 клас   \n",
       "3   1mBTzztfyDPu_R7ExqclSfuaNUmf1FkqK                            9 клас   \n",
       "4   1bTVkcU0YwBUXtIXdQJQGHSpwjRuksA1H                            8 клас   \n",
       "..                                ...                               ...   \n",
       "61  1aAjUM6xMeg665sVefKFfpgC2wJW0fFPA      11 клас_Урок 1_конспект.docx   \n",
       "62  1WfATctR7I4_9ATpw4N9VCdQ2_m9AtHdN      11 клас_Урок 2_конспект.docx   \n",
       "63  1rspGz8hJqLMAOUHDqmPXNwkkF7Yjgj0H  11 клас_ Урок 2_презентація.pptx   \n",
       "64  1N7q4SqOnGhxnwQVet8bimhqhxKfmBaB1   Клас 11_Урок 3_презентація.pptx   \n",
       "65  1fj6vjEU1YmzrdgIOVfxAPpV1V5MEuCK3      Клас 11_Урок 3_конспект.docx   \n",
       "\n",
       "                                             mimeType  \\\n",
       "0                  application/vnd.google-apps.folder   \n",
       "1                  application/vnd.google-apps.folder   \n",
       "2                  application/vnd.google-apps.folder   \n",
       "3                  application/vnd.google-apps.folder   \n",
       "4                  application/vnd.google-apps.folder   \n",
       "..                                                ...   \n",
       "61  application/vnd.openxmlformats-officedocument....   \n",
       "62  application/vnd.openxmlformats-officedocument....   \n",
       "63  application/vnd.openxmlformats-officedocument....   \n",
       "64  application/vnd.openxmlformats-officedocument....   \n",
       "65  application/vnd.openxmlformats-officedocument....   \n",
       "\n",
       "                            parent_id                              path  \\\n",
       "0                                                       Українська мова   \n",
       "1   1xy3NtAtHnEdleB9sypj3_WCUUFuhBh3V                           11 клас   \n",
       "2   1xy3NtAtHnEdleB9sypj3_WCUUFuhBh3V                           10 клас   \n",
       "3   1xy3NtAtHnEdleB9sypj3_WCUUFuhBh3V                            9 клас   \n",
       "4   1xy3NtAtHnEdleB9sypj3_WCUUFuhBh3V                            8 клас   \n",
       "..                                ...                               ...   \n",
       "61  1-dYOW7u70I7rRSlGDDxQsXTJLlC6CtLv      11 клас_Урок 1_конспект.docx   \n",
       "62  17Ei6UYATNL53Mo0o9Ag2ygsagGTYdHjU      11 клас_Урок 2_конспект.docx   \n",
       "63  17Ei6UYATNL53Mo0o9Ag2ygsagGTYdHjU  11 клас_ Урок 2_презентація.pptx   \n",
       "64  1plwX7w2frvnppN4u4tGFbsSOMKwEX0Lb   Клас 11_Урок 3_презентація.pptx   \n",
       "65  1plwX7w2frvnppN4u4tGFbsSOMKwEX0Lb      Клас 11_Урок 3_конспект.docx   \n",
       "\n",
       "        size              modifiedTime status  \\\n",
       "0             2025-09-30T10:07:04.639Z   done   \n",
       "1             2025-09-30T10:07:56.186Z   done   \n",
       "2             2025-09-30T10:07:51.937Z   done   \n",
       "3             2025-09-30T10:07:47.985Z   done   \n",
       "4             2025-09-30T10:07:43.947Z   done   \n",
       "..       ...                       ...    ...   \n",
       "61   8627511  2025-10-02T00:10:59.000Z  error   \n",
       "62   7602990  2025-10-22T05:38:00.000Z  error   \n",
       "63  14569933  2025-10-02T00:11:51.000Z  error   \n",
       "64  11636734  2025-10-07T15:54:50.000Z  error   \n",
       "65   6568173  2025-10-07T15:54:45.000Z  error   \n",
       "\n",
       "                              dest_id  \\\n",
       "0   1jI4kYwU_x0Bu6iaHxwtjCbmgboYg1gyZ   \n",
       "1   1Y06hrPu3YWurlcMX27u_bCI7L4pg5Rgv   \n",
       "2   1t0sMf7fcnmOBtK9Hn73gNv5OQ8ydG1SO   \n",
       "3   1iiId043EJfwp39fIbkaYDE40uHdw59Lj   \n",
       "4   1aPFP_NwoMTX5wUnr_w16zdo39-6GCS04   \n",
       "..                                ...   \n",
       "61                                      \n",
       "62                                      \n",
       "63                                      \n",
       "64                                      \n",
       "65                                      \n",
       "\n",
       "                                                error  \\\n",
       "0                                                       \n",
       "1                                                       \n",
       "2                                                       \n",
       "3                                                       \n",
       "4                                                       \n",
       "..                                                ...   \n",
       "61  (-2147352567, 'Exception occurred.', (0, 'Micr...   \n",
       "62  (-2147352567, 'Exception occurred.', (0, 'Micr...   \n",
       "63  Local file not found: MOVA\\11 клас_ Урок 2_пре...   \n",
       "64  Local file not found: MOVA\\Клас 11_Урок 3_през...   \n",
       "65  (-2147352567, 'Exception occurred.', (0, 'Micr...   \n",
       "\n",
       "                  last_attempt  retries  \\\n",
       "0   2025-10-23T17:29:02+00:00Z        0   \n",
       "1   2025-10-23T17:29:03+00:00Z        0   \n",
       "2   2025-10-23T17:29:02+00:00Z        0   \n",
       "3   2025-10-23T17:29:12+00:00Z        0   \n",
       "4   2025-10-23T17:29:11+00:00Z        0   \n",
       "..                         ...      ...   \n",
       "61  2025-10-23T17:47:30+00:00Z        4   \n",
       "62  2025-10-23T17:47:30+00:00Z        4   \n",
       "63  2025-10-23T17:47:30+00:00Z        4   \n",
       "64  2025-10-23T17:36:19+00:00Z        3   \n",
       "65  2025-10-23T17:36:19+00:00Z        2   \n",
       "\n",
       "                                   local_path  \\\n",
       "0                                               \n",
       "1                                               \n",
       "2                                               \n",
       "3                                               \n",
       "4                                               \n",
       "..                                        ...   \n",
       "61      MOVA\\11 клас_Урок 1_конспект.docx.pdf   \n",
       "62      MOVA\\11 клас_Урок 2_конспект.docx.pdf   \n",
       "63  MOVA\\11 клас_ Урок 2_презентація.pptx.pdf   \n",
       "64   MOVA\\Клас 11_Урок 3_презентація.pptx.pdf   \n",
       "65      MOVA\\Клас 11_Урок 3_конспект.docx.pdf   \n",
       "\n",
       "                         root_dest_id             drive_id  \n",
       "0   1Yd4EDx8t95HbEB0dqOwvwgpNWEaFO-eL  0ANqgtgU9ZamEUk9PVA  \n",
       "1   1Yd4EDx8t95HbEB0dqOwvwgpNWEaFO-eL  0ANqgtgU9ZamEUk9PVA  \n",
       "2   1Yd4EDx8t95HbEB0dqOwvwgpNWEaFO-eL  0ANqgtgU9ZamEUk9PVA  \n",
       "3   1Yd4EDx8t95HbEB0dqOwvwgpNWEaFO-eL  0ANqgtgU9ZamEUk9PVA  \n",
       "4   1Yd4EDx8t95HbEB0dqOwvwgpNWEaFO-eL  0ANqgtgU9ZamEUk9PVA  \n",
       "..                                ...                  ...  \n",
       "61  1Yd4EDx8t95HbEB0dqOwvwgpNWEaFO-eL  0ANqgtgU9ZamEUk9PVA  \n",
       "62  1Yd4EDx8t95HbEB0dqOwvwgpNWEaFO-eL  0ANqgtgU9ZamEUk9PVA  \n",
       "63  1Yd4EDx8t95HbEB0dqOwvwgpNWEaFO-eL  0ANqgtgU9ZamEUk9PVA  \n",
       "64  1Yd4EDx8t95HbEB0dqOwvwgpNWEaFO-eL  0ANqgtgU9ZamEUk9PVA  \n",
       "65  1Yd4EDx8t95HbEB0dqOwvwgpNWEaFO-eL  0ANqgtgU9ZamEUk9PVA  \n",
       "\n",
       "[66 rows x 17 columns]"
      ]
     },
     "execution_count": 3,
     "metadata": {},
     "output_type": "execute_result"
    }
   ],
   "source": [
    "df = tools.load_inventory(inventory_csv)\n",
    "df"
   ]
  },
  {
   "cell_type": "code",
   "execution_count": null,
   "id": "9688395a",
   "metadata": {},
   "outputs": [],
   "source": []
  },
  {
   "cell_type": "code",
   "execution_count": 22,
   "id": "38e8e8a3",
   "metadata": {},
   "outputs": [],
   "source": [
    "from selenium import webdriver\n",
    "from selenium.webdriver.common.keys import Keys\n",
    "from selenium.webdriver.common.by import By\n",
    "from selenium.webdriver.common.action_chains import ActionChains\n",
    "from selenium.webdriver.support.wait import WebDriverWait\n",
    "from selenium.webdriver.support import expected_conditions as EC\n",
    "from time import sleep\n",
    "\n",
    "def download_with_selenium(df, inventory_csv, local_parent_dir, token_file='token.json'):\n",
    "    if df.empty:\n",
    "        raise RuntimeError(\"Inventory is empty. Run 'scan' first to build the inventory CSV.\")\n",
    "    \n",
    "    # Create output directory\n",
    "    os.makedirs(local_parent_dir, exist_ok=True)\n",
    "\n",
    "    # Prepare driver and download location\n",
    "    download_dir = os.path.abspath(local_parent_dir)\n",
    "    options = webdriver.ChromeOptions()\n",
    "    prefs = {\n",
    "        \"download.default_directory\": download_dir,\n",
    "        \"download.prompt_for_download\": False\n",
    "    }\n",
    "    options.add_experimental_option(\"prefs\", prefs)\n",
    "    driver = webdriver.Chrome(options=options)\n",
    "    \n",
    "    # Index by id for in-place updates\n",
    "    if 'id_indexed' not in df.attrs:\n",
    "        df.set_index('id', inplace=True, drop=False)\n",
    "        df.attrs['id_indexed'] = True\n",
    "\n",
    "    to_download = df[\n",
    "        df['mimeType'].isin(tools.GOOGLE_MIME_EXPORT_TYPES.keys()) & \n",
    "        ((df['status'] != 'downloaded') | df['status'].isna())\n",
    "    ]\n",
    "    nfolders = len(df[df['mimeType'] == 'application/vnd.google-apps.folder'])\n",
    "    ndownloadable = len(to_download)\n",
    "    logger.info(f\"Found {nfolders} folders, {ndownloadable} downloadable files, {len(df)-ndownloadable-nfolders} ignored files\")\n",
    "\n",
    "    total = len(to_download)\n",
    "    if total == 0:\n",
    "        logger.info(\"No new files to download\")\n",
    "        return\n",
    "    \n",
    "    logger.info(f\"Preparing to download {total} files\")\n",
    "    processed = 0\n",
    "\n",
    "    first_load = True\n",
    "    for idx, row in to_download.iterrows():\n",
    "        try:\n",
    "            # Estimate local path for download\n",
    "            pdf_path = os.path.join(local_parent_dir, row['name'] + '.pdf')\n",
    "            \n",
    "            # Skip if already downloaded successfully\n",
    "            if os.path.exists(pdf_path) and df.at[row['id'], 'status'] == 'downloaded':\n",
    "                continue\n",
    "                \n",
    "            logger.info(f\"Processing: {row['path']} [{row['id']}] -> {pdf_path}\")\n",
    "            \n",
    "            # Download file\n",
    "            url = None\n",
    "            if row['name'].endswith(\".docx\"):\n",
    "                url = f\"https://docs.google.com/document/d/{row['id']}/edit\"\n",
    "            elif row['name'].endswith(\".pptx\"):\n",
    "                url = f\"https://docs.google.com/presentation/d/{row['id']}/edit\"\n",
    "            else:\n",
    "                raise ValueError(\"Unsupported extention.\")\n",
    "            \n",
    "            driver.get(url)\n",
    "            wait = 10\n",
    "            if first_load:\n",
    "                wait = 10\n",
    "                first_load = False\n",
    "            actions = ActionChains(driver)\n",
    "            (actions\n",
    "            .pause(wait)\n",
    "            .key_down(Keys.ALT)\n",
    "            .send_keys('F')\n",
    "            .key_up(Keys.ALT)\n",
    "            .pause(0.2)\n",
    "            .send_keys('D')\n",
    "            .pause(0.2)\n",
    "            .send_keys('P')\n",
    "            .pause(5)\n",
    "            ).perform()\n",
    "\n",
    "            success = False\n",
    "            for i in range(round(5 / 0.2)+1):\n",
    "                if os.path.exists(pdf_path):\n",
    "                    logger.info(\"file downloaded\")\n",
    "                    success = True\n",
    "                    break\n",
    "                sleep(0.2)\n",
    "            if not success:\n",
    "                raise ValueError(\"Cannot download file in 10 secs or cannot find downloaded file\")\n",
    "        \n",
    "            # Update status\n",
    "            df.at[row['id'], 'status'] = 'downloaded'\n",
    "            df.at[row['id'], 'local_path'] = pdf_path\n",
    "            df.at[row['id'], 'error'] = None\n",
    "            df.at[row['id'], 'last_attempt'] = tools._now_iso()\n",
    "            \n",
    "            processed += 1\n",
    "            tools.flush_inventory(df.reset_index(drop=True), inventory_csv)\n",
    "            logger.info(f\"Progress: {processed}/{total} files downloaded\")\n",
    "                \n",
    "        except Exception as e:\n",
    "            df.at[row['id'], 'status'] = 'error'\n",
    "            df.at[row['id'], 'error'] = str(e)\n",
    "            df.at[row['id'], 'last_attempt'] = tools._now_iso()\n",
    "            df.at[row['id'], 'retries'] = int(df.at[row['id'], 'retries']) + 1\n",
    "            tools.flush_inventory(df.reset_index(drop=True), inventory_csv)\n",
    "            logger.error(f\"Error downloading {row['path']}: {e}\")\n",
    "    \n",
    "    driver.close()\n",
    "    # Final flush\n",
    "    tools.flush_inventory(df.reset_index(drop=True), inventory_csv)\n",
    "    logger.info(f\"Download complete. {processed}/{total} files downloaded\")"
   ]
  },
  {
   "cell_type": "code",
   "execution_count": 25,
   "id": "b8a4402f",
   "metadata": {},
   "outputs": [
    {
     "name": "stderr",
     "output_type": "stream",
     "text": [
      "2025-10-23 20:25:26 INFO     Found 26 folders, 6 downloadable files, 34 ignored files\n",
      "2025-10-23 20:25:26 INFO     Preparing to download 6 files\n",
      "2025-10-23 20:25:26 INFO     Processing: Українська мова/10 клас/Урок 1/10 клас_ Урок 1_конспект.docx [1PUXNqZrv0rWHBkWqMZNjgrPu7m9X0ebK] -> MOVA\\10 клас_ Урок 1_конспект.docx.pdf\n",
      "2025-10-23 20:25:45 INFO     file downloaded\n",
      "2025-10-23 20:25:45 INFO     Progress: 1/6 files downloaded\n",
      "2025-10-23 20:25:45 INFO     Processing: Українська мова/11 клас/Урок 1/11 клас_ Урок 1_презентація.pptx [1N1_gORtjv--issXm5EsK0HZQ4FMsjrdR] -> MOVA\\11 клас_ Урок 1_презентація.pptx.pdf\n",
      "2025-10-23 20:26:04 INFO     file downloaded\n",
      "2025-10-23 20:26:04 INFO     Progress: 2/6 files downloaded\n",
      "2025-10-23 20:26:04 INFO     Processing: Українська мова/11 клас/Урок 1/11 клас_Урок 1_конспект.docx [1aAjUM6xMeg665sVefKFfpgC2wJW0fFPA] -> MOVA\\11 клас_Урок 1_конспект.docx.pdf\n",
      "2025-10-23 20:26:23 INFO     file downloaded\n",
      "2025-10-23 20:26:23 INFO     Progress: 3/6 files downloaded\n",
      "2025-10-23 20:26:23 INFO     Processing: Українська мова/11 клас/Урок 2/11 клас_Урок 2_конспект.docx [1WfATctR7I4_9ATpw4N9VCdQ2_m9AtHdN] -> MOVA\\11 клас_Урок 2_конспект.docx.pdf\n",
      "2025-10-23 20:26:40 INFO     file downloaded\n",
      "2025-10-23 20:26:40 INFO     Progress: 4/6 files downloaded\n",
      "2025-10-23 20:26:40 INFO     Processing: Українська мова/11 клас/Урок 2/11 клас_ Урок 2_презентація.pptx [1rspGz8hJqLMAOUHDqmPXNwkkF7Yjgj0H] -> MOVA\\11 клас_ Урок 2_презентація.pptx.pdf\n",
      "2025-10-23 20:26:59 INFO     file downloaded\n",
      "2025-10-23 20:26:59 INFO     Progress: 5/6 files downloaded\n",
      "2025-10-23 20:26:59 INFO     Processing: Українська мова/11 клас/Урок 3/Клас 11_Урок 3_презентація.pptx [1N7q4SqOnGhxnwQVet8bimhqhxKfmBaB1] -> MOVA\\Клас 11_Урок 3_презентація.pptx.pdf\n",
      "2025-10-23 20:27:16 INFO     file downloaded\n",
      "2025-10-23 20:27:16 INFO     Progress: 6/6 files downloaded\n",
      "2025-10-23 20:27:16 INFO     Download complete. 6/6 files downloaded\n"
     ]
    }
   ],
   "source": [
    "download_with_selenium(df, inventory_csv, local_parent_dir='MOVA')"
   ]
  },
  {
   "cell_type": "code",
   "execution_count": null,
   "id": "74fd36ca",
   "metadata": {},
   "outputs": [],
   "source": []
  },
  {
   "cell_type": "code",
   "execution_count": 4,
   "id": "132a6ad5",
   "metadata": {},
   "outputs": [
    {
     "name": "stderr",
     "output_type": "stream",
     "text": [
      "2025-10-23 20:49:00 INFO     Found 26 folders, 40 exportable files, 0 ignored files\n",
      "2025-10-23 20:49:00 INFO     Root already copied: Українська мова -> 1jI4kYwU_x0Bu6iaHxwtjCbmgboYg1gyZ\n",
      "2025-10-23 20:49:00 INFO     Starting downloading, converting, and uploading of 66 items under 1 root(s).\n",
      "2025-10-23 20:49:00 INFO     [1/40] Processing '10 клас_Урок 1_ презентація.pptx' (1Msg0hJD6VYBadwGi_1NaEfSC2LZ8y12x)\n",
      "2025-10-23 20:49:00 INFO     > Uploading 1Msg0hJD6VYBadwGi_1NaEfSC2LZ8y12x\n",
      "2025-10-23 20:49:04 INFO     ... '10 клас_Урок 1_ презентація.pptx' done [1/66]\n",
      "2025-10-23 20:49:04 INFO     [2/40] Processing '10 клас_Урок 2_ презентація.pptx' (1fUNqOGAaxC7A18DVZnh58zU66rRN4xlD)\n",
      "2025-10-23 20:49:04 INFO     > Uploading 1fUNqOGAaxC7A18DVZnh58zU66rRN4xlD\n",
      "2025-10-23 20:49:08 INFO     ... '10 клас_Урок 2_ презентація.pptx' done [2/66]\n",
      "2025-10-23 20:49:08 INFO     [3/40] Processing '10 клас_Урок 2_конспект.docx' (1ICm7AhxblHSC6skDyMpC2Cr7n3rJ7x8l)\n",
      "2025-10-23 20:49:08 INFO     > Uploading 1ICm7AhxblHSC6skDyMpC2Cr7n3rJ7x8l\n",
      "2025-10-23 20:49:12 INFO     ... '10 клас_Урок 2_конспект.docx' done [3/66]\n",
      "2025-10-23 20:49:12 INFO     [4/40] Processing '11 клас_ Урок 1_презентація.pptx' (1N1_gORtjv--issXm5EsK0HZQ4FMsjrdR)\n",
      "2025-10-23 20:49:12 INFO     > Uploading 1N1_gORtjv--issXm5EsK0HZQ4FMsjrdR\n",
      "2025-10-23 20:49:16 INFO     ... '11 клас_ Урок 1_презентація.pptx' done [4/66]\n",
      "2025-10-23 20:49:16 INFO     [5/40] Processing '11 клас_ Урок 2_презентація.pptx' (1rspGz8hJqLMAOUHDqmPXNwkkF7Yjgj0H)\n",
      "2025-10-23 20:49:16 INFO     > Uploading 1rspGz8hJqLMAOUHDqmPXNwkkF7Yjgj0H\n",
      "2025-10-23 20:49:21 INFO     ... '11 клас_ Урок 2_презентація.pptx' done [5/66]\n",
      "2025-10-23 20:49:21 INFO     [6/40] Processing '11 клас_Урок 1_конспект.docx' (1aAjUM6xMeg665sVefKFfpgC2wJW0fFPA)\n",
      "2025-10-23 20:49:21 INFO     > Uploading 1aAjUM6xMeg665sVefKFfpgC2wJW0fFPA\n",
      "2025-10-23 20:49:27 INFO     ... '11 клас_Урок 1_конспект.docx' done [6/66]\n",
      "2025-10-23 20:49:27 INFO     [7/40] Processing '11 клас_Урок 2_конспект.docx' (1WfATctR7I4_9ATpw4N9VCdQ2_m9AtHdN)\n",
      "2025-10-23 20:49:27 INFO     > Uploading 1WfATctR7I4_9ATpw4N9VCdQ2_m9AtHdN\n",
      "2025-10-23 20:49:33 INFO     ... '11 клас_Урок 2_конспект.docx' done [7/66]\n",
      "2025-10-23 20:49:33 INFO     [8/40] Processing '7 клас_урок 1_конспект.docx' (1TrX28fFP2x5L-ZwyW9LivX3OtcwOlCnR)\n",
      "2025-10-23 20:49:33 INFO     > Uploading 1TrX28fFP2x5L-ZwyW9LivX3OtcwOlCnR\n",
      "2025-10-23 20:49:39 INFO     ... '7 клас_урок 1_конспект.docx' done [8/66]\n",
      "2025-10-23 20:49:39 INFO     [9/40] Processing '7 клас_урок 1_презентація.pptx' (1as7CbzC7LNGOJwujXs0ovwAiZyfPZ3Zf)\n",
      "2025-10-23 20:49:39 INFO     > Uploading 1as7CbzC7LNGOJwujXs0ovwAiZyfPZ3Zf\n",
      "2025-10-23 20:49:44 INFO     ... '7 клас_урок 1_презентація.pptx' done [9/66]\n",
      "2025-10-23 20:49:44 INFO     [10/40] Processing '7 клас_урок 2_ презентація.pptx' (103phUbO2nVgUBkM2VxipR5FkG2_PlKtQ)\n",
      "2025-10-23 20:49:44 INFO     > Uploading 103phUbO2nVgUBkM2VxipR5FkG2_PlKtQ\n",
      "2025-10-23 20:49:48 INFO     ... '7 клас_урок 2_ презентація.pptx' done [10/66]\n",
      "2025-10-23 20:49:48 INFO     [11/40] Processing '7 клас_урок 2_конспект.docx' (1Kn65w2TNYGKWfEvc3uvcY6cddJXF5ZCz)\n",
      "2025-10-23 20:49:48 INFO     > Uploading 1Kn65w2TNYGKWfEvc3uvcY6cddJXF5ZCz\n",
      "2025-10-23 20:49:53 INFO     ... '7 клас_урок 2_конспект.docx' done [11/66]\n",
      "2025-10-23 20:49:53 INFO     [12/40] Processing '7 клас_урок 7_ презентація.pptx' (13sEEQf4uAis3U8ONO-r8EOKuZtD7FdO1)\n",
      "2025-10-23 20:49:53 INFO     > Uploading 13sEEQf4uAis3U8ONO-r8EOKuZtD7FdO1\n",
      "2025-10-23 20:49:59 INFO     ... '7 клас_урок 7_ презентація.pptx' done [12/66]\n",
      "2025-10-23 20:49:59 INFO     [13/40] Processing '7 клас_урок 7_конспект.docx' (1RZyTLeSm0OrrXSaA5-Q6RYZUVk1WlThR)\n",
      "2025-10-23 20:49:59 INFO     > Uploading 1RZyTLeSm0OrrXSaA5-Q6RYZUVk1WlThR\n",
      "2025-10-23 20:50:06 INFO     ... '7 клас_урок 7_конспект.docx' done [13/66]\n",
      "2025-10-23 20:50:06 INFO     [14/40] Processing '7 клас_урок 9_ презентація.pptx' (1FgzQC7p4ORlcAp58W7jcFvDweT0-SKEI)\n",
      "2025-10-23 20:50:06 INFO     > Uploading 1FgzQC7p4ORlcAp58W7jcFvDweT0-SKEI\n",
      "2025-10-23 20:50:12 INFO     ... '7 клас_урок 9_ презентація.pptx' done [14/66]\n",
      "2025-10-23 20:50:12 INFO     [15/40] Processing '7 клас_урок 9_конспект.docx' (1rVyX6QRj0rtnaahKTEpGHmTjvx6AhnbE)\n",
      "2025-10-23 20:50:12 INFO     > Uploading 1rVyX6QRj0rtnaahKTEpGHmTjvx6AhnbE\n",
      "2025-10-23 20:50:18 INFO     ... '7 клас_урок 9_конспект.docx' done [15/66]\n",
      "2025-10-23 20:50:18 INFO     [16/40] Processing '8 клас_Урок 2 _презентація.pptx' (1Y8AmQ2-30oD3jKbVLMOcedKKKqRNAi6v)\n",
      "2025-10-23 20:50:18 INFO     > Uploading 1Y8AmQ2-30oD3jKbVLMOcedKKKqRNAi6v\n",
      "2025-10-23 20:50:22 INFO     ... '8 клас_Урок 2 _презентація.pptx' done [16/66]\n",
      "2025-10-23 20:50:22 INFO     [17/40] Processing '8 клас_Урок_2_конспект.docx' (1CHFTiwlXZQIzsP3OXqbgaDSWa3w2NVVI)\n",
      "2025-10-23 20:50:22 INFO     > Uploading 1CHFTiwlXZQIzsP3OXqbgaDSWa3w2NVVI\n",
      "2025-10-23 20:50:26 INFO     ... '8 клас_Урок_2_конспект.docx' done [17/66]\n",
      "2025-10-23 20:50:26 INFO     [18/40] Processing '8 клас_урок 1_конспект.docx' (1C94XS2ZVIOvh8_KZNIsqX8AIiZIXvSAW)\n",
      "2025-10-23 20:50:26 INFO     > Uploading 1C94XS2ZVIOvh8_KZNIsqX8AIiZIXvSAW\n",
      "2025-10-23 20:50:31 INFO     ... '8 клас_урок 1_конспект.docx' done [18/66]\n",
      "2025-10-23 20:50:31 INFO     [19/40] Processing '8 клас_урок 1_презентація.pptx' (1dGiWKfQxeeAUDHIF836Avnwa_bxjvcWE)\n",
      "2025-10-23 20:50:31 INFO     > Uploading 1dGiWKfQxeeAUDHIF836Avnwa_bxjvcWE\n",
      "2025-10-23 20:50:35 INFO     ... '8 клас_урок 1_презентація.pptx' done [19/66]\n",
      "2025-10-23 20:50:35 INFO     [20/40] Processing '8 клас_урок 3 _презентація.pptx' (1cYQ7aOe-BTKQS3hrgklyX059LxnhpKWU)\n",
      "2025-10-23 20:50:35 INFO     > Uploading 1cYQ7aOe-BTKQS3hrgklyX059LxnhpKWU\n",
      "2025-10-23 20:50:41 INFO     ... '8 клас_урок 3 _презентація.pptx' done [20/66]\n",
      "2025-10-23 20:50:41 INFO     [21/40] Processing '8 клас_урок 3_конспект.docx' (1UvdC3_pdF1a8KW0e1iV6y2cfjfSFejTN)\n",
      "2025-10-23 20:50:41 INFO     > Uploading 1UvdC3_pdF1a8KW0e1iV6y2cfjfSFejTN\n",
      "2025-10-23 20:50:44 INFO     ... '8 клас_урок 3_конспект.docx' done [21/66]\n",
      "2025-10-23 20:50:44 INFO     [22/40] Processing '8 клас_урок 7_ конспект.docx' (1FHZzO2qzYcrnR_u2eLnua4hCttkL7QlU)\n",
      "2025-10-23 20:50:44 INFO     > Uploading 1FHZzO2qzYcrnR_u2eLnua4hCttkL7QlU\n",
      "2025-10-23 20:50:47 INFO     ... '8 клас_урок 7_ конспект.docx' done [22/66]\n",
      "2025-10-23 20:50:47 INFO     [23/40] Processing '8 клас_урок 7_презентація.pptx' (1V8qz0YnEoUrMjnNq0nERwT9U-dmN3k7N)\n",
      "2025-10-23 20:50:47 INFO     > Uploading 1V8qz0YnEoUrMjnNq0nERwT9U-dmN3k7N\n",
      "2025-10-23 20:50:53 INFO     ... '8 клас_урок 7_презентація.pptx' done [23/66]\n",
      "2025-10-23 20:50:53 INFO     [24/40] Processing '9 клас_урок 1_конспект.docx' (1Zazhhk2tKACqOi1WEvGJ3rlq477n_Hfp)\n",
      "2025-10-23 20:50:53 INFO     > Uploading 1Zazhhk2tKACqOi1WEvGJ3rlq477n_Hfp\n",
      "2025-10-23 20:50:57 INFO     ... '9 клас_урок 1_конспект.docx' done [24/66]\n",
      "2025-10-23 20:50:57 INFO     [25/40] Processing '9 клас_урок 1_презентація.pptx' (1ShDk_trCsvbXuMx026u5mOkrlvVHvI41)\n",
      "2025-10-23 20:50:57 INFO     > Uploading 1ShDk_trCsvbXuMx026u5mOkrlvVHvI41\n",
      "2025-10-23 20:51:01 INFO     ... '9 клас_урок 1_презентація.pptx' done [25/66]\n",
      "2025-10-23 20:51:01 INFO     [26/40] Processing '9 клас_урок 2_конспект.docx' (12b2ELBjB9KD0nAFi_xyMCUrAN7-pjJbG)\n",
      "2025-10-23 20:51:01 INFO     > Uploading 12b2ELBjB9KD0nAFi_xyMCUrAN7-pjJbG\n",
      "2025-10-23 20:51:05 INFO     ... '9 клас_урок 2_конспект.docx' done [26/66]\n",
      "2025-10-23 20:51:05 INFO     [27/40] Processing '9 клас_урок 2_презентація.pptx' (15CO7P4BdZ-xJw4puSFau9DUV-9MMvn0b)\n",
      "2025-10-23 20:51:05 INFO     > Uploading 15CO7P4BdZ-xJw4puSFau9DUV-9MMvn0b\n",
      "2025-10-23 20:51:10 INFO     ... '9 клас_урок 2_презентація.pptx' done [27/66]\n",
      "2025-10-23 20:51:10 INFO     [28/40] Processing '9 клас_урок 3_конспект.docx' (1S9szszYW0D9vPQXhvfvdGfoSzS_p5vsM)\n",
      "2025-10-23 20:51:10 INFO     > Uploading 1S9szszYW0D9vPQXhvfvdGfoSzS_p5vsM\n",
      "2025-10-23 20:51:15 INFO     ... '9 клас_урок 3_конспект.docx' done [28/66]\n",
      "2025-10-23 20:51:15 INFO     [29/40] Processing '9 клас_урок 3_презентація.pptx' (1DsdpRqNVhqacdDFzJTR7OIFxPK9vgVt0)\n",
      "2025-10-23 20:51:15 INFO     > Uploading 1DsdpRqNVhqacdDFzJTR7OIFxPK9vgVt0\n",
      "2025-10-23 20:51:20 INFO     ... '9 клас_урок 3_презентація.pptx' done [29/66]\n",
      "2025-10-23 20:51:20 INFO     [30/40] Processing '9 клас_урок 7_конспект.docx' (1T2ZIQmyaXybCu01WbGakrPA_b9_3G09I)\n",
      "2025-10-23 20:51:20 INFO     > Uploading 1T2ZIQmyaXybCu01WbGakrPA_b9_3G09I\n",
      "2025-10-23 20:51:23 INFO     ... '9 клас_урок 7_конспект.docx' done [30/66]\n",
      "2025-10-23 20:51:23 INFO     [31/40] Processing '9 клас_урок 7_презентація.pptx' (1tWtXWL4JDFW3RIYCELdWMwnUeWhOzih4)\n",
      "2025-10-23 20:51:23 INFO     > Uploading 1tWtXWL4JDFW3RIYCELdWMwnUeWhOzih4\n",
      "2025-10-23 20:51:26 INFO     ... '9 клас_урок 7_презентація.pptx' done [31/66]\n",
      "2025-10-23 20:51:26 INFO     [32/40] Processing 'Клас 11_Урок 3_конспект.docx' (1fj6vjEU1YmzrdgIOVfxAPpV1V5MEuCK3)\n",
      "2025-10-23 20:51:26 INFO     > Uploading 1fj6vjEU1YmzrdgIOVfxAPpV1V5MEuCK3\n",
      "2025-10-23 20:51:32 INFO     ... 'Клас 11_Урок 3_конспект.docx' done [32/66]\n",
      "2025-10-23 20:51:32 INFO     [33/40] Processing 'Клас 11_Урок 3_презентація.pptx' (1N7q4SqOnGhxnwQVet8bimhqhxKfmBaB1)\n",
      "2025-10-23 20:51:32 INFO     > Uploading 1N7q4SqOnGhxnwQVet8bimhqhxKfmBaB1\n",
      "2025-10-23 20:51:35 INFO     ... 'Клас 11_Урок 3_презентація.pptx' done [33/66]\n",
      "2025-10-23 20:51:35 INFO     [34/40] Processing 'Клас 7_Урок 3_конспект.docx' (1B4hQiyL-ON3LgFwF6kQ8xqnPFoObTvfA)\n",
      "2025-10-23 20:51:35 INFO     > Uploading 1B4hQiyL-ON3LgFwF6kQ8xqnPFoObTvfA\n",
      "2025-10-23 20:51:39 INFO     ... 'Клас 7_Урок 3_конспект.docx' done [34/66]\n",
      "2025-10-23 20:51:39 INFO     [35/40] Processing 'Клас 7_Урок 3_презентація.pptx' (1h96JJ1Oyb-igGcFCQZ9oOxiN4KumzBev)\n",
      "2025-10-23 20:51:39 INFO     > Uploading 1h96JJ1Oyb-igGcFCQZ9oOxiN4KumzBev\n",
      "2025-10-23 20:51:43 INFO     ... 'Клас 7_Урок 3_презентація.pptx' done [35/66]\n",
      "2025-10-23 20:51:43 INFO     [36/40] Processing 'Клас 7_Урок 4_конспект.docx' (1QRjcnbPdqsxB8SNJp5QGssEjSmmq-bsF)\n",
      "2025-10-23 20:51:43 INFO     > Uploading 1QRjcnbPdqsxB8SNJp5QGssEjSmmq-bsF\n",
      "2025-10-23 20:51:47 INFO     ... 'Клас 7_Урок 4_конспект.docx' done [36/66]\n",
      "2025-10-23 20:51:47 INFO     [37/40] Processing 'Клас 7_Урок 4_презентація.pptx' (1EfmDhZQFQZVzDi37Pxb1uCMRXOhmnn9e)\n",
      "2025-10-23 20:51:47 INFO     > Uploading 1EfmDhZQFQZVzDi37Pxb1uCMRXOhmnn9e\n",
      "2025-10-23 20:51:52 INFO     ... 'Клас 7_Урок 4_презентація.pptx' done [37/66]\n",
      "2025-10-23 20:51:52 INFO     [38/40] Processing 'Клас 7_Урок 5_ презентація.pptx' (1EzJBYMDI6O4Nh8PJVRdt9mEu_3m8AlZQ)\n",
      "2025-10-23 20:51:52 INFO     > Uploading 1EzJBYMDI6O4Nh8PJVRdt9mEu_3m8AlZQ\n",
      "2025-10-23 20:51:56 INFO     ... 'Клас 7_Урок 5_ презентація.pptx' done [38/66]\n",
      "2025-10-23 20:51:56 INFO     [39/40] Processing 'Клас_7_Урок_5_конспект.docx' (1AH_6-inBUVpsXduscdRy4Si7n12ETypJ)\n",
      "2025-10-23 20:51:56 INFO     > Uploading 1AH_6-inBUVpsXduscdRy4Si7n12ETypJ\n",
      "2025-10-23 20:51:59 INFO     ... 'Клас_7_Урок_5_конспект.docx' done [39/66]\n",
      "2025-10-23 20:51:59 INFO     Upload converted PDF complete.\n"
     ]
    }
   ],
   "source": [
    "# We will override path\n",
    "tools.convert_inventory_to_pdf(service, df, inventory_csv, 'MOVA', ['1xy3NtAtHnEdleB9sypj3_WCUUFuhBh3V'], 'token.json', skip_download=True)"
   ]
  },
  {
   "cell_type": "code",
   "execution_count": null,
   "id": "f87ad90f",
   "metadata": {},
   "outputs": [
    {
     "name": "stderr",
     "output_type": "stream",
     "text": [
      "2025-10-23 00:48:52 INFO     Found 22 folders\n",
      "2025-10-23 00:48:52 INFO     Found 22 folders, 28 downloadable files, 0 ignored files\n",
      "2025-10-23 00:48:52 INFO     Preparing to download 28 files\n",
      "2025-10-23 00:48:52 INFO     Downloading: Історія України/5 клас/Урок 2/5 клас_2 урок_конспект.docx\n",
      "2025-10-23 00:48:54 INFO     Progress: 1/28 files downloaded\n",
      "2025-10-23 00:48:54 INFO     Downloading: Історія України/5 клас/Урок 2/5 клас_2 урок_презентація.pptx\n",
      "2025-10-23 00:48:59 INFO     Progress: 2/28 files downloaded\n",
      "2025-10-23 00:48:59 INFO     Downloading: Історія України/5 клас/Урок 1/5 клас_1 урок_презентація.pptx\n",
      "2025-10-23 00:49:03 INFO     Progress: 3/28 files downloaded\n",
      "2025-10-23 00:49:03 INFO     Downloading: Історія України/5 клас/Урок 1/5 клас_1 урок_конспект.docx\n",
      "2025-10-23 00:49:08 INFO     Progress: 4/28 files downloaded\n",
      "2025-10-23 00:49:08 INFO     Downloading: Історія України/6 клас/Урок 2/6 клас_2 урок_презентація.pptx\n",
      "2025-10-23 00:49:12 INFO     Progress: 5/28 files downloaded\n",
      "2025-10-23 00:49:12 INFO     Downloading: Історія України/6 клас/Урок 2/6 клас_2 урок_конспект.docx\n",
      "2025-10-23 00:49:14 INFO     Progress: 6/28 files downloaded\n",
      "2025-10-23 00:49:14 INFO     Downloading: Історія України/6 клас/Урок 1/6 клас_1 урок_презентація.pptx\n",
      "2025-10-23 00:49:17 INFO     Progress: 7/28 files downloaded\n",
      "2025-10-23 00:49:17 INFO     Downloading: Історія України/6 клас/Урок 1/6 клас_1 урок_конспект.docx\n",
      "2025-10-23 00:49:22 INFO     Progress: 8/28 files downloaded\n",
      "2025-10-23 00:49:22 INFO     Downloading: Історія України/7 клас/Урок 2/Клас 7_Урок 2_презентація.pptx\n",
      "2025-10-23 00:49:26 INFO     Progress: 9/28 files downloaded\n",
      "2025-10-23 00:49:26 INFO     Downloading: Історія України/7 клас/Урок 2/Клас 7_Урок 2_конспект.docx\n",
      "2025-10-23 00:49:28 INFO     Progress: 10/28 files downloaded\n",
      "2025-10-23 00:49:28 INFO     Downloading: Історія України/7 клас/Урок 1/7 клас_1 урок_презентація.pptx\n",
      "2025-10-23 00:49:32 INFO     Progress: 11/28 files downloaded\n",
      "2025-10-23 00:49:32 INFO     Downloading: Історія України/7 клас/Урок 1/7 клас_1 урок_конспект.docx\n",
      "2025-10-23 00:49:34 INFO     Progress: 12/28 files downloaded\n",
      "2025-10-23 00:49:34 INFO     Downloading: Історія України/8 клас/Урок 1/8 клас_1 урок_конспект.docx\n",
      "2025-10-23 00:49:37 INFO     Progress: 13/28 files downloaded\n",
      "2025-10-23 00:49:37 INFO     Downloading: Історія України/8 клас/Урок 1/8 клас_1 урок_презентація.pptx\n",
      "2025-10-23 00:49:40 INFO     Progress: 14/28 files downloaded\n",
      "2025-10-23 00:49:40 INFO     Downloading: Історія України/8 клас/Урок 2/Клас 8_Урок 2_конспект.docx\n",
      "2025-10-23 00:49:42 INFO     Progress: 15/28 files downloaded\n",
      "2025-10-23 00:49:42 INFO     Downloading: Історія України/8 клас/Урок 2/Клас 8_Урок 2_презентація.pptx\n",
      "2025-10-23 00:49:46 INFO     Progress: 16/28 files downloaded\n",
      "2025-10-23 00:49:46 INFO     Downloading: Історія України/9 клас/Урок 1/9 клас_1 урок_презенація.pptx\n",
      "2025-10-23 00:49:50 INFO     Progress: 17/28 files downloaded\n",
      "2025-10-23 00:49:50 INFO     Downloading: Історія України/9 клас/Урок 1/9 клас_1 урок_конспект.docx\n",
      "2025-10-23 00:49:51 INFO     Progress: 18/28 files downloaded\n",
      "2025-10-23 00:49:51 INFO     Downloading: Історія України/9 клас/Урок 2/Клас 9_Урок 2_презентація.pptx\n",
      "2025-10-23 00:49:56 INFO     Progress: 19/28 files downloaded\n",
      "2025-10-23 00:49:56 INFO     Downloading: Історія України/9 клас/Урок 2/Клас 9_Урок 2_конспект.docx\n",
      "2025-10-23 00:49:58 INFO     Progress: 20/28 files downloaded\n",
      "2025-10-23 00:49:58 INFO     Downloading: Історія України/10 клас/Урок 2/Клас 10_Урок 2_презентація.pptx\n",
      "2025-10-23 00:50:03 INFO     Progress: 21/28 files downloaded\n",
      "2025-10-23 00:50:03 INFO     Downloading: Історія України/10 клас/Урок 2/Клас 10_Урок 2_конспект.docx\n",
      "2025-10-23 00:50:04 INFO     Progress: 22/28 files downloaded\n",
      "2025-10-23 00:50:04 INFO     Downloading: Історія України/10 клас/Урок 1/10 клас_1 урок_презентація.pptx\n",
      "2025-10-23 00:50:08 INFO     Progress: 23/28 files downloaded\n",
      "2025-10-23 00:50:08 INFO     Downloading: Історія України/10 клас/Урок 1/10 клас_1 урок_конспект.docx\n",
      "2025-10-23 00:50:09 INFO     Progress: 24/28 files downloaded\n",
      "2025-10-23 00:50:09 INFO     Downloading: Історія України/11 клас/Урок 2/Клас 11_Урок 2_презентація.pptx\n",
      "2025-10-23 00:50:13 INFO     Progress: 25/28 files downloaded\n",
      "2025-10-23 00:50:13 INFO     Downloading: Історія України/11 клас/Урок 2/Клас 11_Урок 2_конспект.docx\n",
      "2025-10-23 00:50:16 INFO     Progress: 26/28 files downloaded\n",
      "2025-10-23 00:50:16 INFO     Downloading: Історія України/11 клас/Урок 1/11 клас_1 урок_презентація.pptx\n",
      "2025-10-23 00:50:19 INFO     Progress: 27/28 files downloaded\n",
      "2025-10-23 00:50:19 INFO     Downloading: Історія України/11 клас/Урок 1/11 клас_1 урок_конспект.docx\n",
      "2025-10-23 00:50:21 INFO     Progress: 28/28 files downloaded\n",
      "2025-10-23 00:50:21 INFO     Download complete. 28/28 files downloaded\n"
     ]
    }
   ],
   "source": [
    "tools.download_inventory(service, df, inventory_csv, 'MOVA', batch_size=1, token_file='token.json')"
   ]
  },
  {
   "cell_type": "code",
   "execution_count": 6,
   "id": "b207e02b",
   "metadata": {},
   "outputs": [
    {
     "data": {
      "text/plain": [
       "['1SlONqF9zjE3P80yz-SvyQM3g7r_a1xAd']"
      ]
     },
     "execution_count": 6,
     "metadata": {},
     "output_type": "execute_result"
    }
   ],
   "source": [
    "selected_root_ids = list(df[df['parent_id'] == '']['root_id'])\n",
    "selected_root_ids"
   ]
  },
  {
   "cell_type": "code",
   "execution_count": 9,
   "id": "92fe2817",
   "metadata": {},
   "outputs": [
    {
     "name": "stderr",
     "output_type": "stream",
     "text": [
      "2025-10-23 00:50:55 INFO     Found 22 folders, 28 exportable files, 0 ignored files\n",
      "2025-10-23 00:50:55 INFO     Verifying root destination Історія України -> 1Yd4EDx8t95HbEB0dqOwvwgpNWEaFO-eL\n",
      "2025-10-23 00:50:55 INFO     Prepared root: Історія України -> 1Yd4EDx8t95HbEB0dqOwvwgpNWEaFO-eL\n",
      "2025-10-23 00:50:55 INFO     Starting downloading, converting, and uploading of 50 items under 1 root(s).\n",
      "2025-10-23 00:50:56 INFO     ... 'Історія України/10 клас' done [2/50]\n",
      "2025-10-23 00:50:57 INFO     ... 'Історія України/11 клас' done [3/50]\n",
      "2025-10-23 00:50:58 INFO     ... 'Історія України/5 клас' done [4/50]\n",
      "2025-10-23 00:50:59 INFO     ... 'Історія України/6 клас' done [5/50]\n",
      "2025-10-23 00:51:00 INFO     ... 'Історія України/7 клас' done [6/50]\n",
      "2025-10-23 00:51:01 INFO     ... 'Історія України/8 клас' done [7/50]\n",
      "2025-10-23 00:51:02 INFO     ... 'Історія України/9 клас' done [8/50]\n",
      "2025-10-23 00:51:03 INFO     ... 'Історія України/10 клас/Урок 1' done [9/50]\n",
      "2025-10-23 00:51:05 INFO     ... 'Історія України/10 клас/Урок 2' done [10/50]\n",
      "2025-10-23 00:51:06 INFO     ... 'Історія України/11 клас/Урок 1' done [11/50]\n",
      "2025-10-23 00:51:07 INFO     ... 'Історія України/11 клас/Урок 2' done [12/50]\n",
      "2025-10-23 00:51:08 INFO     ... 'Історія України/5 клас/Урок 1' done [13/50]\n",
      "2025-10-23 00:51:09 INFO     ... 'Історія України/5 клас/Урок 2' done [14/50]\n",
      "2025-10-23 00:51:09 INFO     ... 'Історія України/6 клас/Урок 1' done [15/50]\n",
      "2025-10-23 00:51:10 INFO     ... 'Історія України/6 клас/Урок 2' done [16/50]\n",
      "2025-10-23 00:51:11 INFO     ... 'Історія України/7 клас/Урок 1' done [17/50]\n",
      "2025-10-23 00:51:12 INFO     ... 'Історія України/7 клас/Урок 2' done [18/50]\n",
      "2025-10-23 00:51:13 INFO     ... 'Історія України/8 клас/Урок 1' done [19/50]\n",
      "2025-10-23 00:51:14 INFO     ... 'Історія України/8 клас/Урок 2' done [20/50]\n",
      "2025-10-23 00:51:15 INFO     ... 'Історія України/9 клас/Урок 1' done [21/50]\n",
      "2025-10-23 00:51:16 INFO     ... 'Історія України/9 клас/Урок 2' done [22/50]\n",
      "2025-10-23 00:51:16 INFO     [1/28] Processing 'Історія України/10 клас/Урок 1/10 клас_1 урок_конспект.docx' (1rC-aY2OZtqcdjBgcItQEiwDEJZw1J45B)\n",
      "2025-10-23 00:51:16 INFO     > File '1rC-aY2OZtqcdjBgcItQEiwDEJZw1J45B' is already downloaded. Skipping download.\n",
      "2025-10-23 00:51:16 INFO     > Converting 1rC-aY2OZtqcdjBgcItQEiwDEJZw1J45B\n"
     ]
    },
    {
     "data": {
      "application/vnd.jupyter.widget-view+json": {
       "model_id": "5eeadc1ddbb249a394675f3784bb1896",
       "version_major": 2,
       "version_minor": 0
      },
      "text/plain": [
       "  0%|          | 0/1 [00:00<?, ?it/s]"
      ]
     },
     "metadata": {},
     "output_type": "display_data"
    },
    {
     "name": "stderr",
     "output_type": "stream",
     "text": [
      "2025-10-23 00:51:22 INFO     > Uploading 1rC-aY2OZtqcdjBgcItQEiwDEJZw1J45B\n",
      "2025-10-23 00:51:25 INFO     ... 'Історія України/10 клас/Урок 1/10 клас_1 урок_конспект.docx' done [23/50]\n",
      "2025-10-23 00:51:25 INFO     [2/28] Processing 'Історія України/10 клас/Урок 1/10 клас_1 урок_презентація.pptx' (11435RepvtQutdblMMINLBBXbkvm6VGSp)\n",
      "2025-10-23 00:51:25 INFO     > File '11435RepvtQutdblMMINLBBXbkvm6VGSp' is already downloaded. Skipping download.\n",
      "2025-10-23 00:51:25 INFO     > Converting 11435RepvtQutdblMMINLBBXbkvm6VGSp\n",
      "2025-10-23 00:51:32 INFO     > Uploading 11435RepvtQutdblMMINLBBXbkvm6VGSp\n"
     ]
    },
    {
     "name": "stdout",
     "output_type": "stream",
     "text": [
      "Conversion completed: 1 files converted successfully, 0 files failed.\n"
     ]
    },
    {
     "name": "stderr",
     "output_type": "stream",
     "text": [
      "2025-10-23 00:51:35 INFO     ... 'Історія України/10 клас/Урок 1/10 клас_1 урок_презентація.pptx' done [24/50]\n",
      "2025-10-23 00:51:35 INFO     [3/28] Processing 'Історія України/10 клас/Урок 2/Клас 10_Урок 2_конспект.docx' (1pgOT7SozVh_JDXXcf2R3r7Lip-1uPWaI)\n",
      "2025-10-23 00:51:35 INFO     > File '1pgOT7SozVh_JDXXcf2R3r7Lip-1uPWaI' is already downloaded. Skipping download.\n",
      "2025-10-23 00:51:35 INFO     > Converting 1pgOT7SozVh_JDXXcf2R3r7Lip-1uPWaI\n"
     ]
    },
    {
     "data": {
      "application/vnd.jupyter.widget-view+json": {
       "model_id": "49f81483978b4949ad5513737c033f69",
       "version_major": 2,
       "version_minor": 0
      },
      "text/plain": [
       "  0%|          | 0/1 [00:00<?, ?it/s]"
      ]
     },
     "metadata": {},
     "output_type": "display_data"
    },
    {
     "name": "stderr",
     "output_type": "stream",
     "text": [
      "2025-10-23 00:51:40 INFO     > Uploading 1pgOT7SozVh_JDXXcf2R3r7Lip-1uPWaI\n",
      "2025-10-23 00:51:42 INFO     ... 'Історія України/10 клас/Урок 2/Клас 10_Урок 2_конспект.docx' done [25/50]\n",
      "2025-10-23 00:51:42 INFO     [4/28] Processing 'Історія України/10 клас/Урок 2/Клас 10_Урок 2_презентація.pptx' (1uJx3CjCo6srMC_NOEtYEPezMZD0pa8Ng)\n",
      "2025-10-23 00:51:42 INFO     > File '1uJx3CjCo6srMC_NOEtYEPezMZD0pa8Ng' is already downloaded. Skipping download.\n",
      "2025-10-23 00:51:42 INFO     > Converting 1uJx3CjCo6srMC_NOEtYEPezMZD0pa8Ng\n",
      "2025-10-23 00:51:48 INFO     > Uploading 1uJx3CjCo6srMC_NOEtYEPezMZD0pa8Ng\n"
     ]
    },
    {
     "name": "stdout",
     "output_type": "stream",
     "text": [
      "Conversion completed: 1 files converted successfully, 0 files failed.\n"
     ]
    },
    {
     "name": "stderr",
     "output_type": "stream",
     "text": [
      "2025-10-23 00:51:51 INFO     ... 'Історія України/10 клас/Урок 2/Клас 10_Урок 2_презентація.pptx' done [26/50]\n",
      "2025-10-23 00:51:51 INFO     [5/28] Processing 'Історія України/11 клас/Урок 1/11 клас_1 урок_конспект.docx' (18T6uaiJIVQoVfwHs8nGmYYhreRoxa-CA)\n",
      "2025-10-23 00:51:51 INFO     > File '18T6uaiJIVQoVfwHs8nGmYYhreRoxa-CA' is already downloaded. Skipping download.\n",
      "2025-10-23 00:51:51 INFO     > Converting 18T6uaiJIVQoVfwHs8nGmYYhreRoxa-CA\n"
     ]
    },
    {
     "data": {
      "application/vnd.jupyter.widget-view+json": {
       "model_id": "15c08a0f99714028821d4ca0910e67ff",
       "version_major": 2,
       "version_minor": 0
      },
      "text/plain": [
       "  0%|          | 0/1 [00:00<?, ?it/s]"
      ]
     },
     "metadata": {},
     "output_type": "display_data"
    },
    {
     "name": "stderr",
     "output_type": "stream",
     "text": [
      "2025-10-23 00:51:55 INFO     > Uploading 18T6uaiJIVQoVfwHs8nGmYYhreRoxa-CA\n",
      "2025-10-23 00:51:58 INFO     ... 'Історія України/11 клас/Урок 1/11 клас_1 урок_конспект.docx' done [27/50]\n",
      "2025-10-23 00:51:58 INFO     [6/28] Processing 'Історія України/11 клас/Урок 1/11 клас_1 урок_презентація.pptx' (1BO6AUJeYYODxyM7PSV30CNkwIJCKG42u)\n",
      "2025-10-23 00:51:58 INFO     > File '1BO6AUJeYYODxyM7PSV30CNkwIJCKG42u' is already downloaded. Skipping download.\n",
      "2025-10-23 00:51:58 INFO     > Converting 1BO6AUJeYYODxyM7PSV30CNkwIJCKG42u\n",
      "2025-10-23 00:52:05 INFO     > Uploading 1BO6AUJeYYODxyM7PSV30CNkwIJCKG42u\n"
     ]
    },
    {
     "name": "stdout",
     "output_type": "stream",
     "text": [
      "Conversion completed: 1 files converted successfully, 0 files failed.\n"
     ]
    },
    {
     "name": "stderr",
     "output_type": "stream",
     "text": [
      "2025-10-23 00:52:08 INFO     ... 'Історія України/11 клас/Урок 1/11 клас_1 урок_презентація.pptx' done [28/50]\n",
      "2025-10-23 00:52:08 INFO     [7/28] Processing 'Історія України/11 клас/Урок 2/Клас 11_Урок 2_конспект.docx' (1ayxQ1X5WY4G7KfLd-xklVVRt7yyqYczI)\n",
      "2025-10-23 00:52:08 INFO     > File '1ayxQ1X5WY4G7KfLd-xklVVRt7yyqYczI' is already downloaded. Skipping download.\n",
      "2025-10-23 00:52:08 INFO     > Converting 1ayxQ1X5WY4G7KfLd-xklVVRt7yyqYczI\n"
     ]
    },
    {
     "data": {
      "application/vnd.jupyter.widget-view+json": {
       "model_id": "e3804ed90cfd45cb949ab4c1e5c2bd39",
       "version_major": 2,
       "version_minor": 0
      },
      "text/plain": [
       "  0%|          | 0/1 [00:00<?, ?it/s]"
      ]
     },
     "metadata": {},
     "output_type": "display_data"
    },
    {
     "name": "stderr",
     "output_type": "stream",
     "text": [
      "2025-10-23 00:52:12 INFO     > Uploading 1ayxQ1X5WY4G7KfLd-xklVVRt7yyqYczI\n",
      "2025-10-23 00:52:15 INFO     ... 'Історія України/11 клас/Урок 2/Клас 11_Урок 2_конспект.docx' done [29/50]\n",
      "2025-10-23 00:52:15 INFO     [8/28] Processing 'Історія України/11 клас/Урок 2/Клас 11_Урок 2_презентація.pptx' (17TfD3DoUM7NUwSmJ5AfFMJzxnws6oCVj)\n",
      "2025-10-23 00:52:15 INFO     > File '17TfD3DoUM7NUwSmJ5AfFMJzxnws6oCVj' is already downloaded. Skipping download.\n",
      "2025-10-23 00:52:15 INFO     > Converting 17TfD3DoUM7NUwSmJ5AfFMJzxnws6oCVj\n",
      "2025-10-23 00:52:23 INFO     > Uploading 17TfD3DoUM7NUwSmJ5AfFMJzxnws6oCVj\n"
     ]
    },
    {
     "name": "stdout",
     "output_type": "stream",
     "text": [
      "Conversion completed: 1 files converted successfully, 0 files failed.\n"
     ]
    },
    {
     "name": "stderr",
     "output_type": "stream",
     "text": [
      "2025-10-23 00:52:26 INFO     ... 'Історія України/11 клас/Урок 2/Клас 11_Урок 2_презентація.pptx' done [30/50]\n",
      "2025-10-23 00:52:26 INFO     [9/28] Processing 'Історія України/5 клас/Урок 1/5 клас_1 урок_конспект.docx' (1IUUbuyC92puvBujXPJ15DJXLrLdVCXli)\n",
      "2025-10-23 00:52:26 INFO     > File '1IUUbuyC92puvBujXPJ15DJXLrLdVCXli' is already downloaded. Skipping download.\n",
      "2025-10-23 00:52:26 INFO     > Converting 1IUUbuyC92puvBujXPJ15DJXLrLdVCXli\n"
     ]
    },
    {
     "data": {
      "application/vnd.jupyter.widget-view+json": {
       "model_id": "63177bb5756e45acabff78454b5fc5d5",
       "version_major": 2,
       "version_minor": 0
      },
      "text/plain": [
       "  0%|          | 0/1 [00:00<?, ?it/s]"
      ]
     },
     "metadata": {},
     "output_type": "display_data"
    },
    {
     "name": "stderr",
     "output_type": "stream",
     "text": [
      "2025-10-23 00:52:32 INFO     > Uploading 1IUUbuyC92puvBujXPJ15DJXLrLdVCXli\n",
      "2025-10-23 00:52:34 INFO     ... 'Історія України/5 клас/Урок 1/5 клас_1 урок_конспект.docx' done [31/50]\n",
      "2025-10-23 00:52:34 INFO     [10/28] Processing 'Історія України/5 клас/Урок 1/5 клас_1 урок_презентація.pptx' (1k_jejfVm4l-z-LYg_1SOGVoswEAEXF3K)\n",
      "2025-10-23 00:52:34 INFO     > File '1k_jejfVm4l-z-LYg_1SOGVoswEAEXF3K' is already downloaded. Skipping download.\n",
      "2025-10-23 00:52:34 INFO     > Converting 1k_jejfVm4l-z-LYg_1SOGVoswEAEXF3K\n",
      "2025-10-23 00:52:43 INFO     > Uploading 1k_jejfVm4l-z-LYg_1SOGVoswEAEXF3K\n"
     ]
    },
    {
     "name": "stdout",
     "output_type": "stream",
     "text": [
      "Conversion completed: 1 files converted successfully, 0 files failed.\n"
     ]
    },
    {
     "name": "stderr",
     "output_type": "stream",
     "text": [
      "2025-10-23 00:52:46 INFO     ... 'Історія України/5 клас/Урок 1/5 клас_1 урок_презентація.pptx' done [32/50]\n",
      "2025-10-23 00:52:46 INFO     [11/28] Processing 'Історія України/5 клас/Урок 2/5 клас_2 урок_конспект.docx' (1iPHQxBFeb4RuS4lUI8HIWH8fqebF8ET7)\n",
      "2025-10-23 00:52:46 INFO     > File '1iPHQxBFeb4RuS4lUI8HIWH8fqebF8ET7' is already downloaded. Skipping download.\n",
      "2025-10-23 00:52:46 INFO     > Converting 1iPHQxBFeb4RuS4lUI8HIWH8fqebF8ET7\n"
     ]
    },
    {
     "data": {
      "application/vnd.jupyter.widget-view+json": {
       "model_id": "daf75e2280964ab0bc2b73927a7a072b",
       "version_major": 2,
       "version_minor": 0
      },
      "text/plain": [
       "  0%|          | 0/1 [00:00<?, ?it/s]"
      ]
     },
     "metadata": {},
     "output_type": "display_data"
    },
    {
     "name": "stderr",
     "output_type": "stream",
     "text": [
      "2025-10-23 00:52:51 INFO     > Uploading 1iPHQxBFeb4RuS4lUI8HIWH8fqebF8ET7\n",
      "2025-10-23 00:52:53 INFO     ... 'Історія України/5 клас/Урок 2/5 клас_2 урок_конспект.docx' done [33/50]\n",
      "2025-10-23 00:52:53 INFO     [12/28] Processing 'Історія України/5 клас/Урок 2/5 клас_2 урок_презентація.pptx' (1U-hj6l6ac3fwzOzaruRZOLGMBPyWMlt1)\n",
      "2025-10-23 00:52:53 INFO     > File '1U-hj6l6ac3fwzOzaruRZOLGMBPyWMlt1' is already downloaded. Skipping download.\n",
      "2025-10-23 00:52:53 INFO     > Converting 1U-hj6l6ac3fwzOzaruRZOLGMBPyWMlt1\n",
      "2025-10-23 00:53:03 INFO     > Uploading 1U-hj6l6ac3fwzOzaruRZOLGMBPyWMlt1\n"
     ]
    },
    {
     "name": "stdout",
     "output_type": "stream",
     "text": [
      "Conversion completed: 1 files converted successfully, 0 files failed.\n"
     ]
    },
    {
     "name": "stderr",
     "output_type": "stream",
     "text": [
      "2025-10-23 00:53:06 INFO     ... 'Історія України/5 клас/Урок 2/5 клас_2 урок_презентація.pptx' done [34/50]\n",
      "2025-10-23 00:53:06 INFO     [13/28] Processing 'Історія України/6 клас/Урок 1/6 клас_1 урок_конспект.docx' (1vyNH6np_ZRpMqD50W3Ochp_CX7Kn4B3M)\n",
      "2025-10-23 00:53:06 INFO     > File '1vyNH6np_ZRpMqD50W3Ochp_CX7Kn4B3M' is already downloaded. Skipping download.\n",
      "2025-10-23 00:53:06 INFO     > Converting 1vyNH6np_ZRpMqD50W3Ochp_CX7Kn4B3M\n"
     ]
    },
    {
     "data": {
      "application/vnd.jupyter.widget-view+json": {
       "model_id": "a8b7e595b71a41f4b7a298916404561d",
       "version_major": 2,
       "version_minor": 0
      },
      "text/plain": [
       "  0%|          | 0/1 [00:00<?, ?it/s]"
      ]
     },
     "metadata": {},
     "output_type": "display_data"
    },
    {
     "name": "stderr",
     "output_type": "stream",
     "text": [
      "2025-10-23 00:53:10 INFO     > Uploading 1vyNH6np_ZRpMqD50W3Ochp_CX7Kn4B3M\n",
      "2025-10-23 00:53:13 INFO     ... 'Історія України/6 клас/Урок 1/6 клас_1 урок_конспект.docx' done [35/50]\n",
      "2025-10-23 00:53:13 INFO     [14/28] Processing 'Історія України/6 клас/Урок 1/6 клас_1 урок_презентація.pptx' (1rDVOwVALwOEX2jNZyImPOfZisxEntao_)\n",
      "2025-10-23 00:53:13 INFO     > File '1rDVOwVALwOEX2jNZyImPOfZisxEntao_' is already downloaded. Skipping download.\n",
      "2025-10-23 00:53:13 INFO     > Converting 1rDVOwVALwOEX2jNZyImPOfZisxEntao_\n",
      "2025-10-23 00:53:20 INFO     > Uploading 1rDVOwVALwOEX2jNZyImPOfZisxEntao_\n"
     ]
    },
    {
     "name": "stdout",
     "output_type": "stream",
     "text": [
      "Conversion completed: 1 files converted successfully, 0 files failed.\n"
     ]
    },
    {
     "name": "stderr",
     "output_type": "stream",
     "text": [
      "2025-10-23 00:53:23 INFO     ... 'Історія України/6 клас/Урок 1/6 клас_1 урок_презентація.pptx' done [36/50]\n",
      "2025-10-23 00:53:23 INFO     [15/28] Processing 'Історія України/6 клас/Урок 2/6 клас_2 урок_конспект.docx' (1RI7xhgqFd1VxMIu_GeLtr2afsaRiC0Fy)\n",
      "2025-10-23 00:53:23 INFO     > File '1RI7xhgqFd1VxMIu_GeLtr2afsaRiC0Fy' is already downloaded. Skipping download.\n",
      "2025-10-23 00:53:23 INFO     > Converting 1RI7xhgqFd1VxMIu_GeLtr2afsaRiC0Fy\n"
     ]
    },
    {
     "data": {
      "application/vnd.jupyter.widget-view+json": {
       "model_id": "13697e521b494b94adcfc087d3ec51ef",
       "version_major": 2,
       "version_minor": 0
      },
      "text/plain": [
       "  0%|          | 0/1 [00:00<?, ?it/s]"
      ]
     },
     "metadata": {},
     "output_type": "display_data"
    },
    {
     "name": "stderr",
     "output_type": "stream",
     "text": [
      "2025-10-23 00:53:28 INFO     > Uploading 1RI7xhgqFd1VxMIu_GeLtr2afsaRiC0Fy\n",
      "2025-10-23 00:53:30 INFO     ... 'Історія України/6 клас/Урок 2/6 клас_2 урок_конспект.docx' done [37/50]\n",
      "2025-10-23 00:53:30 INFO     [16/28] Processing 'Історія України/6 клас/Урок 2/6 клас_2 урок_презентація.pptx' (1VftKwSLtldUDuj0_kUrm9YJ1lZ3zlSqc)\n",
      "2025-10-23 00:53:30 INFO     > File '1VftKwSLtldUDuj0_kUrm9YJ1lZ3zlSqc' is already downloaded. Skipping download.\n",
      "2025-10-23 00:53:30 INFO     > Converting 1VftKwSLtldUDuj0_kUrm9YJ1lZ3zlSqc\n",
      "2025-10-23 00:53:37 INFO     > Uploading 1VftKwSLtldUDuj0_kUrm9YJ1lZ3zlSqc\n"
     ]
    },
    {
     "name": "stdout",
     "output_type": "stream",
     "text": [
      "Conversion completed: 1 files converted successfully, 0 files failed.\n"
     ]
    },
    {
     "name": "stderr",
     "output_type": "stream",
     "text": [
      "2025-10-23 00:53:40 INFO     ... 'Історія України/6 клас/Урок 2/6 клас_2 урок_презентація.pptx' done [38/50]\n",
      "2025-10-23 00:53:40 INFO     [17/28] Processing 'Історія України/7 клас/Урок 1/7 клас_1 урок_конспект.docx' (14dMBUpRyD1vL1g7I9kMFeanBx5sfrCBx)\n",
      "2025-10-23 00:53:40 INFO     > File '14dMBUpRyD1vL1g7I9kMFeanBx5sfrCBx' is already downloaded. Skipping download.\n",
      "2025-10-23 00:53:40 INFO     > Converting 14dMBUpRyD1vL1g7I9kMFeanBx5sfrCBx\n"
     ]
    },
    {
     "data": {
      "application/vnd.jupyter.widget-view+json": {
       "model_id": "78d17f2ee2fb4bf3a789e77ec58f9749",
       "version_major": 2,
       "version_minor": 0
      },
      "text/plain": [
       "  0%|          | 0/1 [00:00<?, ?it/s]"
      ]
     },
     "metadata": {},
     "output_type": "display_data"
    },
    {
     "name": "stderr",
     "output_type": "stream",
     "text": [
      "2025-10-23 00:53:44 INFO     > Uploading 14dMBUpRyD1vL1g7I9kMFeanBx5sfrCBx\n",
      "2025-10-23 00:53:46 INFO     ... 'Історія України/7 клас/Урок 1/7 клас_1 урок_конспект.docx' done [39/50]\n",
      "2025-10-23 00:53:46 INFO     [18/28] Processing 'Історія України/7 клас/Урок 1/7 клас_1 урок_презентація.pptx' (1phJ7MnBnzX84HdMsXEm5V2FX0P904Jr9)\n",
      "2025-10-23 00:53:46 INFO     > File '1phJ7MnBnzX84HdMsXEm5V2FX0P904Jr9' is already downloaded. Skipping download.\n",
      "2025-10-23 00:53:46 INFO     > Converting 1phJ7MnBnzX84HdMsXEm5V2FX0P904Jr9\n",
      "2025-10-23 00:53:57 INFO     > Uploading 1phJ7MnBnzX84HdMsXEm5V2FX0P904Jr9\n"
     ]
    },
    {
     "name": "stdout",
     "output_type": "stream",
     "text": [
      "Conversion completed: 1 files converted successfully, 0 files failed.\n"
     ]
    },
    {
     "name": "stderr",
     "output_type": "stream",
     "text": [
      "2025-10-23 00:53:59 INFO     ... 'Історія України/7 клас/Урок 1/7 клас_1 урок_презентація.pptx' done [40/50]\n",
      "2025-10-23 00:53:59 INFO     [19/28] Processing 'Історія України/7 клас/Урок 2/Клас 7_Урок 2_конспект.docx' (1OHAtSGLm5jhUp71C3clFPw43pchC33nO)\n",
      "2025-10-23 00:53:59 INFO     > File '1OHAtSGLm5jhUp71C3clFPw43pchC33nO' is already downloaded. Skipping download.\n",
      "2025-10-23 00:53:59 INFO     > Converting 1OHAtSGLm5jhUp71C3clFPw43pchC33nO\n"
     ]
    },
    {
     "data": {
      "application/vnd.jupyter.widget-view+json": {
       "model_id": "b6cd30ad0d324e169e8e2c5be860d443",
       "version_major": 2,
       "version_minor": 0
      },
      "text/plain": [
       "  0%|          | 0/1 [00:00<?, ?it/s]"
      ]
     },
     "metadata": {},
     "output_type": "display_data"
    },
    {
     "name": "stderr",
     "output_type": "stream",
     "text": [
      "2025-10-23 00:54:03 INFO     > Uploading 1OHAtSGLm5jhUp71C3clFPw43pchC33nO\n",
      "2025-10-23 00:54:06 INFO     ... 'Історія України/7 клас/Урок 2/Клас 7_Урок 2_конспект.docx' done [41/50]\n",
      "2025-10-23 00:54:06 INFO     [20/28] Processing 'Історія України/7 клас/Урок 2/Клас 7_Урок 2_презентація.pptx' (1IpENUKZuI9sT6eKd-hDGU4otT1erNXV0)\n",
      "2025-10-23 00:54:06 INFO     > File '1IpENUKZuI9sT6eKd-hDGU4otT1erNXV0' is already downloaded. Skipping download.\n",
      "2025-10-23 00:54:06 INFO     > Converting 1IpENUKZuI9sT6eKd-hDGU4otT1erNXV0\n",
      "2025-10-23 00:54:12 INFO     > Uploading 1IpENUKZuI9sT6eKd-hDGU4otT1erNXV0\n"
     ]
    },
    {
     "name": "stdout",
     "output_type": "stream",
     "text": [
      "Conversion completed: 1 files converted successfully, 0 files failed.\n"
     ]
    },
    {
     "name": "stderr",
     "output_type": "stream",
     "text": [
      "2025-10-23 00:54:15 INFO     ... 'Історія України/7 клас/Урок 2/Клас 7_Урок 2_презентація.pptx' done [42/50]\n",
      "2025-10-23 00:54:15 INFO     [21/28] Processing 'Історія України/8 клас/Урок 1/8 клас_1 урок_конспект.docx' (1C6MUvwm4OAcevfFyo-8aUQt0UnjKw91g)\n",
      "2025-10-23 00:54:15 INFO     > File '1C6MUvwm4OAcevfFyo-8aUQt0UnjKw91g' is already downloaded. Skipping download.\n",
      "2025-10-23 00:54:15 INFO     > Converting 1C6MUvwm4OAcevfFyo-8aUQt0UnjKw91g\n"
     ]
    },
    {
     "data": {
      "application/vnd.jupyter.widget-view+json": {
       "model_id": "50854f30130c4861b1d7c6153cf698cf",
       "version_major": 2,
       "version_minor": 0
      },
      "text/plain": [
       "  0%|          | 0/1 [00:00<?, ?it/s]"
      ]
     },
     "metadata": {},
     "output_type": "display_data"
    },
    {
     "name": "stderr",
     "output_type": "stream",
     "text": [
      "2025-10-23 00:54:19 INFO     > Uploading 1C6MUvwm4OAcevfFyo-8aUQt0UnjKw91g\n",
      "2025-10-23 00:54:21 INFO     ... 'Історія України/8 клас/Урок 1/8 клас_1 урок_конспект.docx' done [43/50]\n",
      "2025-10-23 00:54:21 INFO     [22/28] Processing 'Історія України/8 клас/Урок 1/8 клас_1 урок_презентація.pptx' (1gM2hjjbaRzGLs1GxMoJaIigMXvyg5QhD)\n",
      "2025-10-23 00:54:21 INFO     > File '1gM2hjjbaRzGLs1GxMoJaIigMXvyg5QhD' is already downloaded. Skipping download.\n",
      "2025-10-23 00:54:21 INFO     > Converting 1gM2hjjbaRzGLs1GxMoJaIigMXvyg5QhD\n",
      "2025-10-23 00:54:28 INFO     > Uploading 1gM2hjjbaRzGLs1GxMoJaIigMXvyg5QhD\n"
     ]
    },
    {
     "name": "stdout",
     "output_type": "stream",
     "text": [
      "Conversion completed: 1 files converted successfully, 0 files failed.\n"
     ]
    },
    {
     "name": "stderr",
     "output_type": "stream",
     "text": [
      "2025-10-23 00:54:31 INFO     ... 'Історія України/8 клас/Урок 1/8 клас_1 урок_презентація.pptx' done [44/50]\n",
      "2025-10-23 00:54:31 INFO     [23/28] Processing 'Історія України/8 клас/Урок 2/Клас 8_Урок 2_конспект.docx' (1BYr8X1LzuzsQTJlhUBueLwOcX3w9NsSW)\n",
      "2025-10-23 00:54:31 INFO     > File '1BYr8X1LzuzsQTJlhUBueLwOcX3w9NsSW' is already downloaded. Skipping download.\n",
      "2025-10-23 00:54:31 INFO     > Converting 1BYr8X1LzuzsQTJlhUBueLwOcX3w9NsSW\n"
     ]
    },
    {
     "data": {
      "application/vnd.jupyter.widget-view+json": {
       "model_id": "f0694d217fa44f4b98b1a0bc1a03de67",
       "version_major": 2,
       "version_minor": 0
      },
      "text/plain": [
       "  0%|          | 0/1 [00:00<?, ?it/s]"
      ]
     },
     "metadata": {},
     "output_type": "display_data"
    },
    {
     "name": "stderr",
     "output_type": "stream",
     "text": [
      "2025-10-23 00:54:35 INFO     > Uploading 1BYr8X1LzuzsQTJlhUBueLwOcX3w9NsSW\n",
      "2025-10-23 00:54:37 INFO     ... 'Історія України/8 клас/Урок 2/Клас 8_Урок 2_конспект.docx' done [45/50]\n",
      "2025-10-23 00:54:37 INFO     [24/28] Processing 'Історія України/8 клас/Урок 2/Клас 8_Урок 2_презентація.pptx' (1_mXKtDwK35iL7S3mK6NaHe7EKsftv2xE)\n",
      "2025-10-23 00:54:37 INFO     > File '1_mXKtDwK35iL7S3mK6NaHe7EKsftv2xE' is already downloaded. Skipping download.\n",
      "2025-10-23 00:54:37 INFO     > Converting 1_mXKtDwK35iL7S3mK6NaHe7EKsftv2xE\n",
      "2025-10-23 00:54:43 INFO     > Uploading 1_mXKtDwK35iL7S3mK6NaHe7EKsftv2xE\n"
     ]
    },
    {
     "name": "stdout",
     "output_type": "stream",
     "text": [
      "Conversion completed: 1 files converted successfully, 0 files failed.\n"
     ]
    },
    {
     "name": "stderr",
     "output_type": "stream",
     "text": [
      "2025-10-23 00:54:46 INFO     ... 'Історія України/8 клас/Урок 2/Клас 8_Урок 2_презентація.pptx' done [46/50]\n",
      "2025-10-23 00:54:46 INFO     [25/28] Processing 'Історія України/9 клас/Урок 1/9 клас_1 урок_конспект.docx' (16S0M2N26dt_ZKnybQHtnVDdTxBemNGw9)\n",
      "2025-10-23 00:54:46 INFO     > File '16S0M2N26dt_ZKnybQHtnVDdTxBemNGw9' is already downloaded. Skipping download.\n",
      "2025-10-23 00:54:46 INFO     > Converting 16S0M2N26dt_ZKnybQHtnVDdTxBemNGw9\n"
     ]
    },
    {
     "data": {
      "application/vnd.jupyter.widget-view+json": {
       "model_id": "344d99232ebb41998368c212bc0ff44c",
       "version_major": 2,
       "version_minor": 0
      },
      "text/plain": [
       "  0%|          | 0/1 [00:00<?, ?it/s]"
      ]
     },
     "metadata": {},
     "output_type": "display_data"
    },
    {
     "name": "stderr",
     "output_type": "stream",
     "text": [
      "2025-10-23 00:54:49 INFO     > Uploading 16S0M2N26dt_ZKnybQHtnVDdTxBemNGw9\n",
      "2025-10-23 00:54:52 INFO     ... 'Історія України/9 клас/Урок 1/9 клас_1 урок_конспект.docx' done [47/50]\n",
      "2025-10-23 00:54:52 INFO     [26/28] Processing 'Історія України/9 клас/Урок 1/9 клас_1 урок_презенація.pptx' (1x_Gc16NmHnnB3SyvX8Os5Gh9loVORdQD)\n",
      "2025-10-23 00:54:52 INFO     > File '1x_Gc16NmHnnB3SyvX8Os5Gh9loVORdQD' is already downloaded. Skipping download.\n",
      "2025-10-23 00:54:52 INFO     > Converting 1x_Gc16NmHnnB3SyvX8Os5Gh9loVORdQD\n",
      "2025-10-23 00:55:02 INFO     > Uploading 1x_Gc16NmHnnB3SyvX8Os5Gh9loVORdQD\n"
     ]
    },
    {
     "name": "stdout",
     "output_type": "stream",
     "text": [
      "Conversion completed: 1 files converted successfully, 0 files failed.\n"
     ]
    },
    {
     "name": "stderr",
     "output_type": "stream",
     "text": [
      "2025-10-23 00:55:05 INFO     ... 'Історія України/9 клас/Урок 1/9 клас_1 урок_презенація.pptx' done [48/50]\n",
      "2025-10-23 00:55:05 INFO     [27/28] Processing 'Історія України/9 клас/Урок 2/Клас 9_Урок 2_конспект.docx' (1nqFpbQjrmJU2g2PhcXKCvmPEwKhFvVbD)\n",
      "2025-10-23 00:55:05 INFO     > File '1nqFpbQjrmJU2g2PhcXKCvmPEwKhFvVbD' is already downloaded. Skipping download.\n",
      "2025-10-23 00:55:05 INFO     > Converting 1nqFpbQjrmJU2g2PhcXKCvmPEwKhFvVbD\n"
     ]
    },
    {
     "data": {
      "application/vnd.jupyter.widget-view+json": {
       "model_id": "bd93f920de194e93b73260d71893309e",
       "version_major": 2,
       "version_minor": 0
      },
      "text/plain": [
       "  0%|          | 0/1 [00:00<?, ?it/s]"
      ]
     },
     "metadata": {},
     "output_type": "display_data"
    },
    {
     "name": "stderr",
     "output_type": "stream",
     "text": [
      "2025-10-23 00:55:10 INFO     > Uploading 1nqFpbQjrmJU2g2PhcXKCvmPEwKhFvVbD\n",
      "2025-10-23 00:55:13 INFO     ... 'Історія України/9 клас/Урок 2/Клас 9_Урок 2_конспект.docx' done [49/50]\n",
      "2025-10-23 00:55:13 INFO     [28/28] Processing 'Історія України/9 клас/Урок 2/Клас 9_Урок 2_презентація.pptx' (18b5vlDeznITtDhCicWgOyXuIi99s2cFk)\n",
      "2025-10-23 00:55:13 INFO     > File '18b5vlDeznITtDhCicWgOyXuIi99s2cFk' is already downloaded. Skipping download.\n",
      "2025-10-23 00:55:13 INFO     > Converting 18b5vlDeznITtDhCicWgOyXuIi99s2cFk\n",
      "2025-10-23 00:55:20 INFO     > Uploading 18b5vlDeznITtDhCicWgOyXuIi99s2cFk\n"
     ]
    },
    {
     "name": "stdout",
     "output_type": "stream",
     "text": [
      "Conversion completed: 1 files converted successfully, 0 files failed.\n"
     ]
    },
    {
     "name": "stderr",
     "output_type": "stream",
     "text": [
      "2025-10-23 00:55:23 INFO     ... 'Історія України/9 клас/Урок 2/Клас 9_Урок 2_презентація.pptx' done [50/50]\n",
      "2025-10-23 00:55:23 INFO     Upload converted PDF complete.\n"
     ]
    }
   ],
   "source": [
    "tools.convert_inventory_to_pdf(\n",
    "    service, df, inventory_csv, \n",
    "    local_parent_dir='HISTORY', selected_roots=selected_root_ids,\n",
    "    token_file='token.json', name_prefix='')"
   ]
  }
 ],
 "metadata": {
  "kernelspec": {
   "display_name": "ukrcomponent-uploader",
   "language": "python",
   "name": "python3"
  },
  "language_info": {
   "codemirror_mode": {
    "name": "ipython",
    "version": 3
   },
   "file_extension": ".py",
   "mimetype": "text/x-python",
   "name": "python",
   "nbconvert_exporter": "python",
   "pygments_lexer": "ipython3",
   "version": "3.13.6"
  }
 },
 "nbformat": 4,
 "nbformat_minor": 5
}
