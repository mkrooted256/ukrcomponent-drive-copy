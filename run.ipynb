{
 "cells": [
  {
   "cell_type": "code",
   "execution_count": 1,
   "id": "108d07ee",
   "metadata": {},
   "outputs": [],
   "source": [
    "import tools\n",
    "from collections import namedtuple\n",
    "\n",
    "ScanParams = namedtuple('ScanParams','folders_csv,inventory_csv,dest_id,batch_flush')\n",
    "CopyParams = namedtuple('CopyParams','folders_csv,inventory_csv,dest_id,select_root_ids,name_prefix')\n",
    "\n",
    "import logging\n",
    "logging.basicConfig(\n",
    "    format='%(asctime)s %(levelname)-8s %(message)s',\n",
    "    level=logging.INFO,\n",
    "    datefmt='%Y-%m-%d %H:%M:%S')"
   ]
  },
  {
   "cell_type": "code",
   "execution_count": 3,
   "id": "1cd5fcf8",
   "metadata": {},
   "outputs": [
    {
     "name": "stderr",
     "output_type": "stream",
     "text": [
      "2025-08-28 19:46:49 INFO     file_cache is only supported with oauth2client<4.0.0\n",
      "2025-08-28 19:46:49 INFO     Scanning 6 root folder(s)...\n",
      "2025-08-28 19:46:49 INFO     Scanning root: ukrlit_C6L4 (1T5ncrjOPLSkC0ZQP0M8q-5G8NlLDpsHY)\n",
      "2025-08-28 19:46:49 ERROR    Failed to read root 1T5ncrjOPLSkC0ZQP0M8q-5G8NlLDpsHY: <HttpError 404 when requesting https://www.googleapis.com/drive/v3/files/1T5ncrjOPLSkC0ZQP0M8q-5G8NlLDpsHY?fields=id%2Cname%2CmimeType%2Cparents%2Csize%2CmodifiedTime&supportsAllDrives=true&alt=json returned \"File not found: 1T5ncrjOPLSkC0ZQP0M8q-5G8NlLDpsHY.\". Details: \"[{'message': 'File not found: 1T5ncrjOPLSkC0ZQP0M8q-5G8NlLDpsHY.', 'domain': 'global', 'reason': 'notFound', 'location': 'fileId', 'locationType': 'parameter'}]\">\n",
      "2025-08-28 19:46:49 INFO     Scanning root: ukrlit_C8L3 (161lnDlzHU08YrlzEEEqHXprutayTnJb9)\n",
      "2025-08-28 19:46:50 ERROR    Failed to read root 161lnDlzHU08YrlzEEEqHXprutayTnJb9: <HttpError 404 when requesting https://www.googleapis.com/drive/v3/files/161lnDlzHU08YrlzEEEqHXprutayTnJb9?fields=id%2Cname%2CmimeType%2Cparents%2Csize%2CmodifiedTime&supportsAllDrives=true&alt=json returned \"File not found: 161lnDlzHU08YrlzEEEqHXprutayTnJb9.\". Details: \"[{'message': 'File not found: 161lnDlzHU08YrlzEEEqHXprutayTnJb9.', 'domain': 'global', 'reason': 'notFound', 'location': 'fileId', 'locationType': 'parameter'}]\">\n",
      "2025-08-28 19:46:50 INFO     Scanning root: ukrlit_C8L4 (10tlQ0IsiOmFycxleazV_BbbCKbfHPSYJ)\n",
      "2025-08-28 19:46:50 ERROR    Failed to read root 10tlQ0IsiOmFycxleazV_BbbCKbfHPSYJ: <HttpError 404 when requesting https://www.googleapis.com/drive/v3/files/10tlQ0IsiOmFycxleazV_BbbCKbfHPSYJ?fields=id%2Cname%2CmimeType%2Cparents%2Csize%2CmodifiedTime&supportsAllDrives=true&alt=json returned \"File not found: 10tlQ0IsiOmFycxleazV_BbbCKbfHPSYJ.\". Details: \"[{'message': 'File not found: 10tlQ0IsiOmFycxleazV_BbbCKbfHPSYJ.', 'domain': 'global', 'reason': 'notFound', 'location': 'fileId', 'locationType': 'parameter'}]\">\n",
      "2025-08-28 19:46:50 INFO     Scanning root: ukrlit_C10L4 (1br2fZb6RQUws4k5CjVhO_P3D35Gqkg00)\n",
      "2025-08-28 19:46:50 ERROR    Failed to read root 1br2fZb6RQUws4k5CjVhO_P3D35Gqkg00: <HttpError 404 when requesting https://www.googleapis.com/drive/v3/files/1br2fZb6RQUws4k5CjVhO_P3D35Gqkg00?fields=id%2Cname%2CmimeType%2Cparents%2Csize%2CmodifiedTime&supportsAllDrives=true&alt=json returned \"File not found: 1br2fZb6RQUws4k5CjVhO_P3D35Gqkg00.\". Details: \"[{'message': 'File not found: 1br2fZb6RQUws4k5CjVhO_P3D35Gqkg00.', 'domain': 'global', 'reason': 'notFound', 'location': 'fileId', 'locationType': 'parameter'}]\">\n",
      "2025-08-28 19:46:50 INFO     Scanning root: ukrlit_C11L4 (17IN0a86uJm_-c235qoEzclWR79RHBp0A)\n",
      "2025-08-28 19:46:52 INFO     Scanning root: ukrlit_C11L5 (1i9tzHmciVbAAf-ZjUQsILNuzg9wylXPo)\n",
      "2025-08-28 19:46:53 INFO     Scan complete. Inventory saved to drive_inventory.csv\n"
     ]
    }
   ],
   "source": [
    "tools.cmd_scan(ScanParams(\"folders.csv\",\"drive_inventory.csv\",None,batch_flush=100))"
   ]
  },
  {
   "cell_type": "code",
   "execution_count": 2,
   "id": "47b6c23b",
   "metadata": {},
   "outputs": [],
   "source": [
    "TEST_DEST = \"1xvq8QaNpsSCpgGSu8xvulxp-tS9AN6jC\" # lit 5C test (https://drive.google.com/drive/folders/1xvq8QaNpsSCpgGSu8xvulxp-tS9AN6jC)"
   ]
  },
  {
   "cell_type": "code",
   "execution_count": 3,
   "id": "505be8bf",
   "metadata": {},
   "outputs": [
    {
     "name": "stderr",
     "output_type": "stream",
     "text": [
      "2025-08-28 17:29:47 INFO     file_cache is only supported with oauth2client<4.0.0\n",
      "2025-08-28 17:29:47 INFO     Preparing to copy 4 root(s) into destination 1xvq8QaNpsSCpgGSu8xvulxp-tS9AN6jC\n",
      "2025-08-28 17:29:49 INFO     Creating new root destination: Урок 5 -> 11QidutYJ7H03DyhUQ175WZAzoZsM-6lU\n",
      "2025-08-28 17:29:49 INFO     Prepared root: Урок 5 -> 11QidutYJ7H03DyhUQ175WZAzoZsM-6lU\n",
      "2025-08-28 17:29:50 INFO     Creating new root destination: Урок 6 -> 1gkYa1u4CnqGQJit_xaj-VqSaH4Ss9idy\n",
      "2025-08-28 17:29:50 INFO     Prepared root: Урок 6 -> 1gkYa1u4CnqGQJit_xaj-VqSaH4Ss9idy\n",
      "2025-08-28 17:29:52 INFO     Creating new root destination: Урок 7 -> 1mewHQtg-ZmksWxqFoAttMrZfED3PkkSK\n",
      "2025-08-28 17:29:52 INFO     Prepared root: Урок 7 -> 1mewHQtg-ZmksWxqFoAttMrZfED3PkkSK\n",
      "2025-08-28 17:29:53 INFO     Creating new root destination: Урок 8 -> 1eqmonVZK-PElNunHhoYtly9Ls81AbAeK\n",
      "2025-08-28 17:29:53 INFO     Prepared root: Урок 8 -> 1eqmonVZK-PElNunHhoYtly9Ls81AbAeK\n",
      "2025-08-28 17:29:53 INFO     Starting copy of 47 items under 4 root(s).\n",
      "2025-08-28 17:29:54 INFO     ... Урок 5/зображення_урок_5 done [1/47]\n",
      "2025-08-28 17:29:55 INFO     ... Урок 6/зображення _урок _6 done [2/47]\n",
      "2025-08-28 17:29:57 INFO     ... Урок 7/зображення _урок_7 done [3/47]\n",
      "2025-08-28 17:29:58 INFO     ... Урок 8/зображення done [4/47]\n",
      "2025-08-28 17:29:59 INFO     ... Урок 5/зображення_урок_5/криголам_письменники done [5/47]\n",
      "2025-08-28 17:30:03 INFO     ... Урок 5/Клас_5_Урок_5_Конспект done [6/47]\n",
      "2025-08-28 17:30:10 INFO     ... Урок 5/Клас_5_Урок_5_Презентація done [7/47]\n",
      "2025-08-28 17:30:19 INFO     ... Урок 5/Літературне бінго done [8/47]\n",
      "2025-08-28 17:30:25 INFO     ... Урок 6/Клас_5_Урок_6_Конспект done [9/47]\n",
      "2025-08-28 17:30:31 INFO     ... Урок 6/Клас_5_Урок_6_Презентація done [10/47]\n",
      "2025-08-28 17:30:36 INFO     ... Урок 7/Клас_5_Урок_7_Конспект done [11/47]\n",
      "2025-08-28 17:30:41 INFO     ... Урок 7/Клас_5_Урок_7_Презентація done [12/47]\n",
      "2025-08-28 17:30:45 INFO     ... Урок 8/Клас_5_Урок_8_Конспект done [13/47]\n",
      "2025-08-28 17:30:51 INFO     ... Урок 8/Клас_5_Урок_8_Презентація done [14/47]\n",
      "2025-08-28 17:30:54 INFO     ... Урок 5/зображення_урок_5/Ivan_Franko_1.jpg done [15/47]\n",
      "2025-08-28 17:30:56 INFO     ... Урок 5/зображення_урок_5/Іван_Франко_2.jpg done [16/47]\n",
      "2025-08-28 17:31:00 INFO     ... Урок 5/зображення_урок_5/Колесо_емоцій_Плутчика.jpeg done [17/47]\n",
      "2025-08-28 17:31:03 INFO     ... Урок 5/зображення_урок_5/лис.jpg done [18/47]\n",
      "2025-08-28 17:31:05 INFO     ... Урок 5/зображення_урок_5/лис1.jpg done [19/47]\n",
      "2025-08-28 17:31:07 INFO     ... Урок 6/зображення _урок _6/Oleg_Shupliak_2019.jpg done [20/47]\n",
      "2025-08-28 17:31:10 INFO     ... Урок 6/зображення _урок _6/каменяр.jpg done [21/47]\n",
      "2025-08-28 17:31:14 INFO     ... Урок 6/зображення _урок _6/комікс лис.png done [22/47]\n",
      "2025-08-28 17:31:16 INFO     ... Урок 6/зображення _урок _6/лис1 (1).jpg done [23/47]\n",
      "2025-08-28 17:31:18 INFO     ... Урок 6/зображення _урок _6/лис2.jpg done [24/47]\n",
      "2025-08-28 17:31:21 INFO     ... Урок 6/зображення _урок _6/лис3.jpg done [25/47]\n",
      "2025-08-28 17:31:27 INFO     ... Урок 6/зображення _урок _6/лис4.jpg done [26/47]\n",
      "2025-08-28 17:31:30 INFO     ... Урок 7/зображення _урок_7/вінок.png done [27/47]\n",
      "2025-08-28 17:31:33 INFO     ... Урок 7/зображення _урок_7/криниця.jpg done [28/47]\n",
      "2025-08-28 17:31:35 INFO     ... Урок 7/зображення _урок_7/сон калини.jpg done [29/47]\n",
      "2025-08-28 17:31:38 INFO     ... Урок 8/зображення/Oranta-Kyiv.jpg done [30/47]\n",
      "2025-08-28 17:31:40 INFO     ... Урок 8/зображення/avramenko_new.jpg done [31/47]\n",
      "2025-08-28 17:31:43 INFO     ... Урок 8/зображення/Іван_Якович_Франко.jpg done [32/47]\n",
      "2025-08-28 17:31:46 INFO     ... Урок 8/зображення/Монумент Незалежности.jpg done [33/47]\n",
      "2025-08-28 17:31:48 INFO     ... Урок 8/зображення/вишиванки.png done [34/47]\n",
      "2025-08-28 17:31:50 INFO     ... Урок 8/зображення/павутина.webp done [35/47]\n",
      "2025-08-28 17:31:52 INFO     ... Урок 8/зображення/рушник Берегиня.jpg done [36/47]\n",
      "2025-08-28 17:31:55 INFO     ... Урок 8/зображення/шупляк Берегиня.jpg done [37/47]\n",
      "2025-08-28 17:31:59 INFO     ... Урок 5/зображення_урок_5/криголам_письменники/a-writer-on-wings-flies-in-the-sky.png done [38/47]\n",
      "2025-08-28 17:32:00 INFO     ... Урок 5/зображення_урок_5/криголам_письменники/a-writer-with-a-quill-in-his-right-hand-and-an-ink.png done [39/47]\n",
      "2025-08-28 17:32:03 INFO     ... Урок 5/зображення_урок_5/криголам_письменники/the-writer-lies-on-the-grass-and-listens-to-the-bi.png done [40/47]\n",
      "2025-08-28 17:32:05 INFO     ... Урок 5/зображення_урок_5/криголам_письменники/the-writer-looks-into-a-magnifying-glass.png done [41/47]\n",
      "2025-08-28 17:32:07 INFO     ... Урок 5/зображення_урок_5/криголам_письменники/the-writer-sits-by-a-fire-in-the-forest.png done [42/47]\n",
      "2025-08-28 17:32:09 INFO     ... Урок 5/зображення_урок_5/криголам_письменники/tthe-writer-flexes-his-muscles.png done [43/47]\n",
      "2025-08-28 17:32:09 INFO     Copy complete.\n"
     ]
    }
   ],
   "source": [
    "tools.cmd_copy(CopyParams(\n",
    "    \"literature_folders_1.csv\",\n",
    "    \"literature_inventory_1.csv\",\n",
    "    TEST_DEST,\n",
    "    None,\n",
    "    ''\n",
    "    ))"
   ]
  }
 ],
 "metadata": {
  "kernelspec": {
   "display_name": "ukrcomponent-uploader",
   "language": "python",
   "name": "python3"
  },
  "language_info": {
   "codemirror_mode": {
    "name": "ipython",
    "version": 3
   },
   "file_extension": ".py",
   "mimetype": "text/x-python",
   "name": "python",
   "nbconvert_exporter": "python",
   "pygments_lexer": "ipython3",
   "version": "3.13.6"
  }
 },
 "nbformat": 4,
 "nbformat_minor": 5
}
