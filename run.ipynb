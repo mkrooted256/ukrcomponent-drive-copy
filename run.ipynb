{
 "cells": [
  {
   "cell_type": "code",
   "execution_count": 1,
   "id": "108d07ee",
   "metadata": {},
   "outputs": [],
   "source": [
    "import tools\n",
    "from collections import namedtuple\n",
    "\n",
    "ScanParams = namedtuple('ScanParams','folders_csv,inventory_csv,dest_id,batch_flush,token_file')\n",
    "CopyParams = namedtuple('CopyParams','folders_csv,inventory_csv,dest_id,select_root_ids,name_prefix,token_file')\n",
    "\n",
    "import logging\n",
    "logging.basicConfig(\n",
    "    format='%(asctime)s %(levelname)-8s %(message)s',\n",
    "    level=logging.INFO,\n",
    "    datefmt='%Y-%m-%d %H:%M:%S')"
   ]
  },
  {
   "cell_type": "code",
   "execution_count": 2,
   "id": "fe290984",
   "metadata": {},
   "outputs": [],
   "source": [
    "token_file = \"o.stolyarska@vchysia.org.ua_gdrive.json\"\n",
    "# token_file = \"m.koreshkov@vchysia.org.ua_gdrive.json\""
   ]
  },
  {
   "cell_type": "code",
   "execution_count": 5,
   "id": "1cd5fcf8",
   "metadata": {},
   "outputs": [
    {
     "name": "stderr",
     "output_type": "stream",
     "text": [
      "2025-09-02 16:31:18 INFO     file_cache is only supported with oauth2client<4.0.0\n",
      "2025-09-02 16:31:18 INFO     Scanning 11 root folder(s)...\n",
      "2025-09-02 16:31:18 INFO     Scanning root: ukrlit_C6L5 (1T5ncrjOPLSkC0ZQP0M8q-5G8NlLDpsHY)\n"
     ]
    },
    {
     "name": "stderr",
     "output_type": "stream",
     "text": [
      "2025-09-02 16:31:20 INFO     Scanning root: ukrlit_C7L5 (1qjBKPJgw8ehB1sCfQMLv6ERZYWqek2dV)\n",
      "2025-09-02 16:31:22 INFO     Scanning root: ukrlit_C7L6 (15Q_bh202V__EZu0odu0SbGVmftcC5zFI)\n",
      "2025-09-02 16:31:24 INFO     Scanning root: ukrlit_C7L7 (10euGwQytmpU5Ne_T5KxdNMxmSH6BNqxt)\n",
      "2025-09-02 16:31:25 INFO     Scanning root: ukrlit_C8L3 (161lnDlzHU08YrlzEEEqHXprutayTnJb9)\n",
      "2025-09-02 16:31:26 INFO     Scanning root: ukrlit_C8L4 (10tlQ0IsiOmFycxleazV_BbbCKbfHPSYJ)\n",
      "2025-09-02 16:31:27 INFO     Scanning root: ukrlit_C8L5 (1fu2d9ydQidhjpmP4GKjCjYyZF_xagm4q)\n",
      "2025-09-02 16:31:29 INFO     Scanning root: ukrlit_C9L3 (1f8UryTADJYyEMyn0b21XPVRr44NdC7Eu)\n",
      "2025-09-02 16:31:29 INFO     Scanning root: ukrlit_C10L4 (1br2fZb6RQUws4k5CjVhO_P3D35Gqkg00)\n",
      "2025-09-02 16:31:30 ERROR    Failed to read root 1br2fZb6RQUws4k5CjVhO_P3D35Gqkg00: <HttpError 404 when requesting https://www.googleapis.com/drive/v3/files/1br2fZb6RQUws4k5CjVhO_P3D35Gqkg00?fields=id%2Cname%2CmimeType%2Cparents%2Csize%2CmodifiedTime&supportsAllDrives=true&alt=json returned \"File not found: 1br2fZb6RQUws4k5CjVhO_P3D35Gqkg00.\". Details: \"[{'message': 'File not found: 1br2fZb6RQUws4k5CjVhO_P3D35Gqkg00.', 'domain': 'global', 'reason': 'notFound', 'location': 'fileId', 'locationType': 'parameter'}]\">\n",
      "2025-09-02 16:31:30 INFO     Scanning root: ukrlit_C11L4 (17IN0a86uJm_-c235qoEzclWR79RHBp0A)\n",
      "2025-09-02 16:31:31 INFO     Scanning root: ukrlit_C11L5 (1i9tzHmciVbAAf-ZjUQsILNuzg9wylXPo)\n",
      "2025-09-02 16:31:32 INFO     Scan complete. Inventory saved to drive_inventory_02.09.2025.csv\n"
     ]
    }
   ],
   "source": [
    "tools.cmd_scan(ScanParams(\"folders_02.09.2025.csv\",\"drive_inventory_02.09.2025.csv\",None,batch_flush=100,token_file=token_file))"
   ]
  },
  {
   "cell_type": "code",
   "execution_count": 2,
   "id": "47b6c23b",
   "metadata": {},
   "outputs": [],
   "source": [
    "TEST_DEST = \"1xvq8QaNpsSCpgGSu8xvulxp-tS9AN6jC\" # lit 5C test (https://drive.google.com/drive/folders/1xvq8QaNpsSCpgGSu8xvulxp-tS9AN6jC)"
   ]
  },
  {
   "cell_type": "code",
   "execution_count": 3,
   "id": "505be8bf",
   "metadata": {},
   "outputs": [
    {
     "name": "stderr",
     "output_type": "stream",
     "text": [
      "2025-09-02 16:45:35 INFO     file_cache is only supported with oauth2client<4.0.0\n",
      "2025-09-02 16:45:35 INFO     Preparing to copy 11 root(s)\n",
      "2025-09-02 16:45:36 INFO     Prepared root: Клас_6_Урок_5 -> 1rnShcfYAxFEGs9dKQ5HAjIwqhJ2PGSw0\n",
      "2025-09-02 16:45:38 INFO     Prepared root: Клас_7_Урок_5 -> 1WEPkD4_ZOVGGQ6xcoTZh6i2MuZiUFN8O\n",
      "2025-09-02 16:45:39 INFO     Prepared root: Клас_7_Урок_6 -> 1AND_bZwYsWNCgEH3lG68o7oJZ3qSvnBn\n",
      "2025-09-02 16:45:41 INFO     Prepared root: Клас_7_Урок_7 -> 1WwL_2pUuEWwIqr7oLc0l_9gupYrTLQaP\n",
      "2025-09-02 16:45:42 INFO     Prepared root: Клас 8. Урок 3. -> 1cDM88tRlzaXByJ0YbFRCAsfFLmF7TTG7\n",
      "2025-09-02 16:45:43 INFO     Prepared root: Клас_8_Урок_4 -> 1ux3MKKJxEJ5jafytf_AoGZvUg0IYLJVj\n",
      "2025-09-02 16:45:44 INFO     Prepared root: Клас_8_Урок_5 -> 1jwSIyARYptBDeP-cnzWzD3vOuQkCG9Vy\n",
      "2025-09-02 16:45:45 INFO     Prepared root: 9_клас_3_урок -> 1776xM4B7maS2UZXFDc__Q0juzetoSfCe\n",
      "2025-09-02 16:45:45 INFO     Root 1br2fZb6RQUws4k5CjVhO_P3D35Gqkg00 not found in inventory; skip.\n",
      "2025-09-02 16:45:46 INFO     Prepared root: Клас_11_урок_4 -> 19afiik7_234zddRx-sgw4QUfWOOn82PO\n",
      "2025-09-02 16:45:47 INFO     Prepared root: Клас_11_урок_5 -> 1E7X4d0N3BwHwnCEtMRwPmw2EyvAWi4Jx\n",
      "2025-09-02 16:45:47 INFO     Starting copy of 92 items under 11 root(s).\n",
      "2025-09-02 16:45:48 INFO     ... 'Клас 8. Урок 3./Зображення до уроку 3.' done [11/92]\n",
      "2025-09-02 16:45:51 INFO     ... 'Клас_11_урок_4/Зображення до уроку_4' done [12/92]\n",
      "2025-09-02 16:45:52 INFO     ... 'Клас_11_урок_5/Зображення до уроку_5' done [13/92]\n",
      "2025-09-02 16:45:53 INFO     ... 'Клас_6_Урок_5/Клас_6_Урок_5_візуали' done [14/92]\n",
      "2025-09-02 16:45:54 INFO     ... 'Клас_7_Урок_5/Зображення до уроку' done [15/92]\n",
      "2025-09-02 16:45:55 INFO     ... 'Клас_7_Урок_6/Зображення до уроку' done [16/92]\n",
      "2025-09-02 16:45:57 INFO     ... 'Клас_7_Урок_7/Зображення до уроку' done [17/92]\n",
      "2025-09-02 16:45:58 INFO     ... 'Клас_8_Урок_4/Клас_8_Урок_4_Зображення' done [18/92]\n",
      "2025-09-02 16:46:00 INFO     ... 'Клас_8_Урок_5/Клас_8_Урок_5_Зображення' done [19/92]\n",
      "2025-09-02 16:46:05 INFO     ... '9_клас_3_урок/9_клас_3_урок_конспект' done [20/92]\n",
      "2025-09-02 16:46:13 INFO     ... '9_клас_3_урок/9_клас_3_урок_презентація' done [21/92]\n",
      "2025-09-02 16:46:19 INFO     ... '9_клас_3_урок/9_клас_3_урок_тести' done [22/92]\n",
      "2025-09-02 16:46:25 INFO     ... 'Клас 8. Урок 3./ Клас 8. Урок 3' done [23/92]\n",
      "2025-09-02 16:46:30 INFO     ... 'Клас 8. Урок 3./Клас  8.  Урок 3' done [24/92]\n",
      "2025-09-02 16:46:35 INFO     ... 'Клас 8. Урок 3./Клас 8. Урок 3. Тести.' done [25/92]\n",
      "2025-09-02 16:46:38 INFO     ... 'Клас_11_урок_4/Клас_11_урок_4_конспект.docx' done [26/92]\n",
      "2025-09-02 16:46:41 INFO     ... 'Клас_11_урок_4/Клас_11_урок_4_презентація.pptx' done [27/92]\n",
      "2025-09-02 16:46:44 INFO     ... 'Клас_11_урок_5/Клас_11_урок_5_конспект.docx' done [28/92]\n",
      "2025-09-02 16:46:47 INFO     ... 'Клас_11_урок_5/Клас_11_урок_5_презентація.pptx' done [29/92]\n",
      "2025-09-02 16:46:51 INFO     ... 'Клас_6_Урок_5/Клас_6_Урок_5_Конспект.docx' done [30/92]\n",
      "2025-09-02 16:46:57 INFO     ... 'Клас_6_Урок_5/Клас_6_Урок_5_презентація.pptx' done [31/92]\n",
      "2025-09-02 16:47:07 INFO     ... 'Клас_7_Урок_5/Клас_7_Урок_5_Конспект' done [32/92]\n",
      "2025-09-02 16:47:10 INFO     ... 'Клас_7_Урок_5/Клас_7_Урок_5_Презентація' done [33/92]\n",
      "2025-09-02 16:47:14 INFO     ... 'Клас_7_Урок_5/Клас_7_Урок_5_Тест' done [34/92]\n",
      "2025-09-02 16:47:16 INFO     ... 'Клас_7_Урок_5/Конспект для учнів. Подорож Т. Шевченка в Україну.pdf' done [35/92]\n",
      "2025-09-02 16:47:19 INFO     ... 'Клас_7_Урок_6/Клас_7_Урок_6_Конспект' done [36/92]\n",
      "2025-09-02 16:47:22 INFO     ... 'Клас_7_Урок_6/Клас_7_Урок_6_Презентація' done [37/92]\n",
      "2025-09-02 16:47:28 INFO     ... 'Клас_7_Урок_6/Клас_7_Урок_6_Тест' done [38/92]\n",
      "2025-09-02 16:47:30 INFO     ... 'Клас_7_Урок_7/Клас_7_Урок_7_Конспект.docx' done [39/92]\n",
      "2025-09-02 16:47:35 INFO     ... 'Клас_7_Урок_7/Клас_7_Урок_7_Презентація' done [40/92]\n",
      "2025-09-02 16:47:41 INFO     ... 'Клас_7_Урок_7/Клас_7_Урок_7_Тест' done [41/92]\n",
      "2025-09-02 16:47:46 INFO     ... 'Клас_8_Урок_4/Клас_8_Урок_4_Конспект.docx' done [42/92]\n",
      "2025-09-02 16:47:49 INFO     ... 'Клас_8_Урок_4/Клас_8_Урок_4_презентація.pptx' done [43/92]\n",
      "2025-09-02 16:47:53 INFO     ... 'Клас_8_Урок_5/Клас_8_Урок_5_Конспект.docx' done [44/92]\n",
      "2025-09-02 16:47:55 INFO     ... 'Клас_8_Урок_5/Клас_8_Урок_5_презентація.pptx' done [45/92]\n",
      "2025-09-02 16:47:59 INFO     ... 'Клас 8. Урок 3./Зображення до уроку 3./Гаубарув.png' done [46/92]\n",
      "2025-09-02 16:48:01 INFO     ... 'Клас 8. Урок 3./Зображення до уроку 3./Гістіея.png' done [47/92]\n",
      "2025-09-02 16:48:05 INFO     ... 'Клас 8. Урок 3./Зображення до уроку 3./Дарявуаш.png' done [48/92]\n",
      "2025-09-02 16:48:08 INFO     ... 'Клас 8. Урок 3./Зображення до уроку 3./Дякую.jpg' done [49/92]\n",
      "2025-09-02 16:48:11 INFO     ... 'Клас 8. Урок 3./Зображення до уроку 3./Комікс.png' done [50/92]\n",
      "2025-09-02 16:48:13 INFO     ... 'Клас 8. Урок 3./Зображення до уроку 3./Мем Троянський кінь.webp' done [51/92]\n",
      "2025-09-02 16:48:16 INFO     ... 'Клас 8. Урок 3./Зображення до уроку 3./Мільтіад.png' done [52/92]\n",
      "2025-09-02 16:48:18 INFO     ... 'Клас 8. Урок 3./Зображення до уроку 3./Пугач.png' done [53/92]\n",
      "2025-09-02 16:48:20 INFO     ... 'Клас 8. Урок 3./Зображення до уроку 3./Цар скіфів.png' done [54/92]\n",
      "2025-09-02 16:48:23 INFO     ... 'Клас_11_урок_4/Зображення до уроку_4/слайд_4.jpg' done [55/92]\n",
      "2025-09-02 16:48:25 INFO     ... 'Клас_11_урок_5/Зображення до уроку_5/слайд_5.png' done [56/92]\n",
      "2025-09-02 16:48:30 INFO     ... 'Клас_6_Урок_5/Клас_6_Урок_5_візуали/Kuindshi.jpg' done [57/92]\n",
      "2025-09-02 16:48:33 INFO     ... 'Клас_6_Урок_5/Клас_6_Урок_5_візуали/Shevch_soldat.jpg' done [58/92]\n",
      "2025-09-02 16:48:37 INFO     ... 'Клас_6_Урок_5/Клас_6_Урок_5_візуали/Селянська_родина.jpg' done [59/92]\n",
      "2025-09-02 16:48:39 INFO     ... 'Клас_7_Урок_5/Зображення до уроку/124.jpg' done [60/92]\n",
      "2025-09-02 16:48:41 INFO     ... 'Клас_7_Урок_5/Зображення до уроку/172.jpg' done [61/92]\n",
      "2025-09-02 16:48:43 INFO     ... 'Клас_7_Урок_5/Зображення до уроку/174.jpg' done [62/92]\n",
      "2025-09-02 16:48:45 INFO     ... 'Клас_7_Урок_5/Зображення до уроку/198.jpg' done [63/92]\n",
      "2025-09-02 16:48:46 INFO     ... 'Клас_7_Урок_5/Зображення до уроку/4320f862c9bea110ec01ab0f388915a3_Generic.jpg' done [64/92]\n",
      "2025-09-02 16:48:48 INFO     ... 'Клас_7_Урок_5/Зображення до уроку/88-11.max-1920x900.format-webp.webp' done [65/92]\n",
      "2025-09-02 16:48:51 INFO     ... 'Клас_7_Урок_5/Зображення до уроку/hidden-images_kobzar-portrait-of-t-shevchenko.jpg' done [66/92]\n",
      "2025-09-02 16:48:52 INFO     ... 'Клас_7_Урок_5/Зображення до уроку/images (1).jpeg' done [67/92]\n",
      "2025-09-02 16:48:54 INFO     ... 'Клас_7_Урок_5/Зображення до уроку/images.jpeg' done [68/92]\n",
      "2025-09-02 16:48:56 INFO     ... 'Клас_7_Урок_5/Зображення до уроку/khmelnytskyi.max-1920x1080.jpg' done [69/92]\n",
      "2025-09-02 16:48:59 INFO     ... 'Клас_7_Урок_5/Зображення до уроку/Шаблони для іншої роботи (5).png' done [70/92]\n",
      "2025-09-02 16:49:01 INFO     ... 'Клас_7_Урок_5/Зображення до уроку/Швидкокод на конспект для учнів' done [71/92]\n",
      "2025-09-02 16:49:04 INFO     ... 'Клас_7_Урок_5/Зображення до уроку/Шевченко_Т._Г._Хата_батьків_у_Кирилівці_(1843).jpg' done [72/92]\n",
      "2025-09-02 16:49:06 INFO     ... 'Клас_7_Урок_6/Зображення до уроку/54480a549a3178ee189632b0f4efdfc1.png' done [73/92]\n",
      "2025-09-02 16:49:09 INFO     ... 'Клас_7_Урок_6/Зображення до уроку/7174da7ba87c8cda87cbed44db9d1998.jpg' done [74/92]\n",
      "2025-09-02 16:49:11 INFO     ... 'Клас_7_Урок_6/Зображення до уроку/R137005U-943-650.jpg' done [75/92]\n",
      "2025-09-02 16:49:13 INFO     ... 'Клас_7_Урок_6/Зображення до уроку/Salon-02.jpg' done [76/92]\n",
      "2025-09-02 16:49:15 INFO     ... 'Клас_7_Урок_6/Зображення до уроку/biblioteka-01.jpg' done [77/92]\n",
      "2025-09-02 16:49:18 INFO     ... 'Клас_7_Урок_6/Зображення до уроку/dd7e6292b20688d5d55cd6ec478a697f-800x800.png' done [78/92]\n",
      "2025-09-02 16:49:20 INFO     ... 'Клас_7_Урок_6/Зображення до уроку/dsc_00777.jpg' done [79/92]\n",
      "2025-09-02 16:49:22 INFO     ... 'Клас_7_Урок_6/Зображення до уроку/hidden-images_zakhar-and-the-golden-eagle.jpg' done [80/92]\n",
      "2025-09-02 16:49:24 INFO     ... 'Клас_7_Урок_6/Зображення до уроку/maxresdefault.jpg' done [81/92]\n",
      "2025-09-02 16:49:27 INFO     ... 'Клас_7_Урок_6/Зображення до уроку/videoframe_5856.png' done [82/92]\n",
      "2025-09-02 16:49:29 INFO     ... 'Клас_7_Урок_6/Зображення до уроку/zt_50_all.webp' done [83/92]\n",
      "2025-09-02 16:49:32 INFO     ... 'Клас_7_Урок_6/Зображення до уроку/Іван_Якович_Франко.jpg' done [84/92]\n",
      "2025-09-02 16:49:34 INFO     ... 'Клас_7_Урок_6/Зображення до уроку/Співробітники_Львівського_кур'єру (1).jpg' done [85/92]\n",
      "2025-09-02 16:49:36 INFO     ... 'Клас_7_Урок_6/Зображення до уроку/Учні_3-го_класу_Дрогобицької_гімназії_1870.jpg' done [86/92]\n",
      "2025-09-02 16:49:39 INFO     ... 'Клас_7_Урок_7/Зображення до уроку/Учні_3-го_класу_Дрогобицької_гімназії_1870.jpg' done [87/92]\n",
      "2025-09-02 16:49:41 INFO     ... 'Клас_8_Урок_4/Клас_8_Урок_4_Зображення/Портрет Богдана Хмельницького Г.Нарбут.jpg' done [88/92]\n",
      "2025-09-02 16:49:44 INFO     ... 'Клас_8_Урок_4/Клас_8_Урок_4_Зображення/Портрет Богдана Хмельницького Н.Павлусенко.jpg' done [89/92]\n",
      "2025-09-02 16:49:46 INFO     ... 'Клас_8_Урок_4/Клас_8_Урок_4_Зображення/Портрет Богдана Хмельницького О.Мордвинова.jpg' done [90/92]\n",
      "2025-09-02 16:49:49 INFO     ... 'Клас_8_Урок_5/Клас_8_Урок_5_Зображення/Портрет Морозенка.jpg' done [91/92]\n",
      "2025-09-02 16:49:51 INFO     ... 'Клас_8_Урок_5/Клас_8_Урок_5_Зображення/Савур-могила.jpg' done [92/92]\n",
      "2025-09-02 16:49:51 INFO     Copy complete.\n"
     ]
    }
   ],
   "source": [
    "tools.cmd_copy(CopyParams(\n",
    "    \"folders_02.09.2025.csv\",\n",
    "    \"drive_inventory_02.09.2025.csv\",\n",
    "    dest_id=None,\n",
    "    select_root_ids=None,\n",
    "    name_prefix='',\n",
    "    token_file=token_file\n",
    "    ))"
   ]
  }
 ],
 "metadata": {
  "kernelspec": {
   "display_name": "ukrcomponent-uploader",
   "language": "python",
   "name": "python3"
  },
  "language_info": {
   "codemirror_mode": {
    "name": "ipython",
    "version": 3
   },
   "file_extension": ".py",
   "mimetype": "text/x-python",
   "name": "python",
   "nbconvert_exporter": "python",
   "pygments_lexer": "ipython3",
   "version": "3.13.6"
  }
 },
 "nbformat": 4,
 "nbformat_minor": 5
}
